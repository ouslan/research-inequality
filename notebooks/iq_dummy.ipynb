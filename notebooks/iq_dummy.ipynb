{
 "cells": [
  {
   "cell_type": "code",
   "execution_count": null,
   "id": "2f598792",
   "metadata": {},
   "outputs": [],
   "source": [
    "import os\n",
    "os.chdir(\"..\")"
   ]
  },
  {
   "cell_type": "code",
   "execution_count": null,
   "id": "5072c9d1",
   "metadata": {},
   "outputs": [],
   "source": [
    "import polars as pl\n",
    "from src.data.data_process import DataClean\n",
    "\n",
    "dc = DataClean()"
   ]
  },
  {
   "cell_type": "code",
   "execution_count": null,
   "id": "1feed75e",
   "metadata": {},
   "outputs": [],
   "source": [
    "df = pl.from_pandas(dc.dataset())"
   ]
  },
  {
   "cell_type": "code",
   "execution_count": null,
   "id": "a51ef81c",
   "metadata": {},
   "outputs": [],
   "source": [
    "data  = df.with_columns(\n",
    "    iq=(pl.col(\"rule_of_law\") + pl.col(\"control_of_corruption\") + pl.col(\"regulatory_quality\") + pl.col(\"political_stability\") + pl.col(\"voice\") + pl.col(\"government_effect\")) / 6\n",
    ")\n",
    "IQ = data.select(pl.col(\"iq\").median()).item()\n",
    "\n",
    "data = data.group_by(\"country\").agg(\n",
    "    iq=pl.col(\"iq\").mean()\n",
    ")\n",
    "data  = data.with_columns(\n",
    "    iq_dummy = pl.when(pl.col(\"iq\") >= IQ).then(1).otherwise(0)\n",
    ")\n",
    "dataset = df.join(data, on=\"country\", how=\"left\", validate=\"m:1\")\n",
    "dataset"
   ]
  },
  {
   "cell_type": "code",
   "execution_count": null,
   "id": "c6c06c00",
   "metadata": {},
   "outputs": [],
   "source": [
    "dataset.write_csv(\"dataset_iq.csv\")\n",
    "data.write_csv(\"iq_raw.csv\")"
   ]
  },
  {
   "cell_type": "code",
   "execution_count": null,
   "id": "60ae515d",
   "metadata": {},
   "outputs": [],
   "source": [
    "dc.wb_data(params=[\"RL.EST\", \"CC.EST\", \"RQ.EST\", \"PV.EST\", \"VA.EST\", \"GE.EST\"], year=1996)"
   ]
  }
 ],
 "metadata": {
  "kernelspec": {
   "display_name": ".venv",
   "language": "python",
   "name": "python3"
  },
  "language_info": {
   "codemirror_mode": {
    "name": "ipython",
    "version": 3
   },
   "file_extension": ".py",
   "mimetype": "text/x-python",
   "name": "python",
   "nbconvert_exporter": "python",
   "pygments_lexer": "ipython3",
   "version": "3.12.11"
  }
 },
 "nbformat": 4,
 "nbformat_minor": 5
}
