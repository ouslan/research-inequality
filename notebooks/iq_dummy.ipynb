{
 "cells": [
  {
   "cell_type": "code",
   "execution_count": null,
   "id": "2f598792",
   "metadata": {},
   "outputs": [],
   "source": [
    "import os\n",
    "os.chdir(\"..\")"
   ]
  },
  {
   "cell_type": "code",
   "execution_count": null,
   "id": "5072c9d1",
   "metadata": {},
   "outputs": [],
   "source": [
    "import polars as pl\n",
    "from src.data.data_process import DataClean\n",
    "\n",
    "dc = DataClean()"
   ]
  },
  {
   "cell_type": "code",
   "execution_count": null,
   "id": "1feed75e",
   "metadata": {},
   "outputs": [],
   "source": [
    "dc.dataset()"
   ]
  },
  {
   "cell_type": "code",
   "execution_count": null,
   "id": "60ae515d",
   "metadata": {},
   "outputs": [],
   "source": [
    "dc.wb_data(params=[\"RL.EST\", \"CC.EST\", \"RQ.EST\", \"PV.EST\", \"VA.EST\", \"GE.EST\"], year=1996)"
   ]
  }
 ],
 "metadata": {
  "kernelspec": {
   "display_name": ".venv",
   "language": "python",
   "name": "python3"
  },
  "language_info": {
   "codemirror_mode": {
    "name": "ipython",
    "version": 3
   },
   "file_extension": ".py",
   "mimetype": "text/x-python",
   "name": "python",
   "nbconvert_exporter": "python",
   "pygments_lexer": "ipython3",
   "version": "3.12.11"
  }
 },
 "nbformat": 4,
 "nbformat_minor": 5
}
