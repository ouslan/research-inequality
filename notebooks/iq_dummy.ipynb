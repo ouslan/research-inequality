{
 "cells": [
  {
   "cell_type": "code",
   "execution_count": null,
   "id": "2f598792",
   "metadata": {},
   "outputs": [],
   "source": [
    "import os\n",
    "os.chdir(\"..\")"
   ]
  },
  {
   "cell_type": "code",
   "execution_count": null,
   "id": "5072c9d1",
   "metadata": {},
   "outputs": [],
   "source": [
    "import polars as pl\n",
    "from src.data.data_process import DataClean\n",
    "\n",
    "dc = DataClean()"
   ]
  },
  {
   "cell_type": "code",
   "execution_count": null,
   "id": "60ae515d",
   "metadata": {},
   "outputs": [],
   "source": []
  }
 ],
 "metadata": {
  "language_info": {
   "name": "python"
  }
 },
 "nbformat": 4,
 "nbformat_minor": 5
}
