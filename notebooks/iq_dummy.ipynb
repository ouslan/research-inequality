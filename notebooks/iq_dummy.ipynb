{
 "cells": [
  {
   "cell_type": "code",
   "execution_count": null,
   "id": "2f598792",
   "metadata": {},
   "outputs": [],
   "source": [
    "import os\n",
    "os.chdir(\"..\")"
   ]
  },
  {
   "cell_type": "code",
   "execution_count": null,
   "id": "5072c9d1",
   "metadata": {},
   "outputs": [],
   "source": [
    "import polars as pl\n",
    "from src.data.data_process import DataClean\n",
    "\n",
    "dc = DataClean()"
   ]
  },
  {
   "cell_type": "code",
   "execution_count": null,
   "id": "1feed75e",
   "metadata": {},
   "outputs": [],
   "source": [
    "df = dc.dataset()"
   ]
  },
  {
   "cell_type": "code",
   "execution_count": null,
   "id": "a33e6b13",
   "metadata": {},
   "outputs": [],
   "source": [
    "df"
   ]
  },
  {
   "cell_type": "code",
   "execution_count": null,
   "id": "a51ef81c",
   "metadata": {},
   "outputs": [],
   "source": [
    "data  = df.with_columns(\n",
    "    iq=(pl.col(\"rule_of_law\") + pl.col(\"control_of_corruption\") + pl.col(\"regulatory_quality\") + pl.col(\"political_stability\") + pl.col(\"voice\") + pl.col(\"government_effect\")) / 6\n",
    ")\n",
    "data = data.filter(pl.col(\"advanced_economy\") == 0)\n",
    "IQ = data.select(pl.col(\"iq\").median()).item()\n",
    "\n",
    "data = data.group_by(\"country\").agg(\n",
    "    iq=pl.col(\"iq\").mean()\n",
    ")\n",
    "data  = data.with_columns(\n",
    "    iq_dummy = pl.when(pl.col(\"iq\") >= IQ).then(1).otherwise(0)\n",
    "    )\n",
    "dataset = df.join(data, on=\"country\", how=\"inner\", validate=\"m:1\")\n",
    "dataset = df.with_columns(\n",
    "    year_id=pl.col(\"year\").rank(method=\"min\").over(\"country\"),\n",
    "    county_id=pl.col(\"country\").rank(method=\"min\").over(\"year\")\n",
    ")\n",
    "dataset"
   ]
  },
  {
   "cell_type": "code",
   "execution_count": null,
   "id": "fee2b7bb",
   "metadata": {},
   "outputs": [],
   "source": [
    "# add year as continues id and add country id order by alphabetically "
   ]
  },
  {
   "cell_type": "code",
   "execution_count": null,
   "id": "72675fdb",
   "metadata": {},
   "outputs": [],
   "source": [
    "data.select(pl.col(\"iq_dummy\").sum())"
   ]
  },
  {
   "cell_type": "code",
   "execution_count": null,
   "id": "05cccbc0",
   "metadata": {},
   "outputs": [],
   "source": [
    "temp = df.select(pl.col(\"year\", \"country\"))\n",
    "temp"
   ]
  },
  {
   "cell_type": "code",
   "execution_count": null,
   "id": "f8dcce25",
   "metadata": {},
   "outputs": [],
   "source": []
  }
 ],
 "metadata": {
  "kernelspec": {
   "display_name": ".venv",
   "language": "python",
   "name": "python3"
  },
  "language_info": {
   "codemirror_mode": {
    "name": "ipython",
    "version": 3
   },
   "file_extension": ".py",
   "mimetype": "text/x-python",
   "name": "python",
   "nbconvert_exporter": "python",
   "pygments_lexer": "ipython3",
   "version": "3.12.11"
  }
 },
 "nbformat": 4,
 "nbformat_minor": 5
}
