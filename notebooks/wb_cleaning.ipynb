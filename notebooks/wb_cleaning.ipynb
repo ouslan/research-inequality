{
 "cells": [
  {
   "cell_type": "code",
   "execution_count": null,
   "id": "e21151e0",
   "metadata": {},
   "outputs": [],
   "source": [
    "import os\n",
    "os.chdir(\"..\")"
   ]
  },
  {
   "cell_type": "code",
   "execution_count": null,
   "id": "8fc4f958",
   "metadata": {},
   "outputs": [],
   "source": [
    "import polars as pl\n",
    "import missingno as msno\n",
    "import polars.selectors as cs\n",
    "from src.data.data_process import DataClean\n",
    "\n",
    "dc = DataClean()"
   ]
  },
  {
   "cell_type": "code",
   "execution_count": null,
   "id": "d7b8a7fb",
   "metadata": {},
   "outputs": [],
   "source": [
    "dc.dataset()"
   ]
  },
  {
   "cell_type": "code",
   "execution_count": null,
   "id": "b01da59b",
   "metadata": {},
   "outputs": [],
   "source": [
    "df = dc.pull_wb()\n",
    "df = df.filter(pl.col(\"year\") >= 1990)\n",
    "data = pl.read_csv(\"data/external/countries.csv\")\n",
    "df = df.join(data, on=\"country\", how=\"inner\", validate=\"m:1\")\n",
    "df = df.select(\n",
    "    pl.col(\n",
    "        'year',\n",
    "        'country',\n",
    "        'fertility_rate',\n",
    "        'gdp_per_capita',\n",
    "        'government_expenditure',\n",
    "        'trade',\n",
    "        'life_expectancy',\n",
    "        'gdp_per_capita_growth',\n",
    "        'inflation',\n",
    "        'population_growth',\n",
    "        'gross_capital_formation',\n",
    "        'domestic_bank',\n",
    "        'advanced_economy')\n",
    ")\n"
   ]
  },
  {
   "cell_type": "code",
   "execution_count": null,
   "id": "d7a6d3f0",
   "metadata": {},
   "outputs": [],
   "source": [
    "def gen_dummy(columns:list):\n",
    "    for cols in columns:\n",
    "        yield (pl.when(pl.col(cols).is_null()).then(1).otherwise(0).name.suffix(\"_dummy\"))"
   ]
  },
  {
   "cell_type": "code",
   "execution_count": null,
   "id": "8116ac8d",
   "metadata": {},
   "outputs": [],
   "source": [
    "columns = [\n",
    "        'fertility_rate',\n",
    "        'gdp_per_capita',\n",
    "        'government_expenditure',\n",
    "        'trade',\n",
    "        'life_expectancy',\n",
    "        'gdp_per_capita_growth',\n",
    "        'inflation',\n",
    "        'population_growth',\n",
    "        'gross_capital_formation',\n",
    "        'domestic_bank']"
   ]
  },
  {
   "cell_type": "code",
   "execution_count": null,
   "id": "26f60341",
   "metadata": {},
   "outputs": [],
   "source": [
    "df = df.with_columns(gen_dummy(columns=columns))\n",
    "df2 = df"
   ]
  },
  {
   "cell_type": "code",
   "execution_count": null,
   "id": "42e5d242",
   "metadata": {},
   "outputs": [],
   "source": [
    "country_df = df.group_by([\"country\"]).agg(\n",
    "    cs.ends_with(\"_dummy\").mean()\n",
    ")\n",
    "country_df = country_df.with_columns(total_pct=pl.sum_horizontal(cs.ends_with(\"_dummy\")) * 100 / 12)\n",
    "min_countries = country_df.filter(pl.col(\"total_pct\") <= 5).select(pl.col(\"country\")).to_series().to_list()\n",
    "len(min_countries)"
   ]
  },
  {
   "cell_type": "code",
   "execution_count": null,
   "id": "5eebf5c5",
   "metadata": {},
   "outputs": [],
   "source": [
    "df = dc.pull_wb()\n",
    "data = pl.read_csv(\"data/external/countries.csv\")\n",
    "df = df.join(data, on=\"country\", how=\"inner\", validate=\"m:1\")\n",
    "df = df.select(\n",
    "    pl.col(\n",
    "        'year',\n",
    "        'country',\n",
    "        'fertility_rate',\n",
    "        'gdp_per_capita',\n",
    "        'government_expenditure',\n",
    "        'trade',\n",
    "        'life_expectancy',\n",
    "        'gdp_per_capita_growth',\n",
    "        'inflation',\n",
    "        'population_growth',\n",
    "        'gross_capital_formation',\n",
    "        'domestic_bank',\n",
    "        'advanced_economy')\n",
    ")"
   ]
  },
  {
   "cell_type": "code",
   "execution_count": null,
   "id": "6dc1e3b8",
   "metadata": {},
   "outputs": [],
   "source": [
    "extra_contries = ['Iraq', 'Malta', 'Slovak Republic', 'Slovenia','Guinea', 'Mozambique','Namibia', 'Sierra Leone',\"Solomon Islands\",'Albania', 'Armenia', 'Austria', 'Azerbaijan', 'Belarus',\n",
    "       'Belgium', 'Brunei Darussalam', 'Bulgaria', 'Cambodia', 'Cyprus',\n",
    "       'Finland', 'France', 'Georgia', 'Germany', 'Greece', 'Ireland',\n",
    "       'Italy', 'Kazakhstan', 'Kuwait', 'Kyrgyz Republic', 'Luxembourg',\n",
    "       'Moldova', 'Mongolia', 'North Macedonia', 'Portugal', 'Spain',\n",
    "       'Ukraine','Benin', 'Nicaragua', 'Oman', 'Romania', 'Uganda',\n",
    "       'Aruba', 'Haiti', 'Hungary', 'Poland', 'Qatar']"
   ]
  },
  {
   "cell_type": "code",
   "execution_count": null,
   "id": "b016beca",
   "metadata": {},
   "outputs": [],
   "source": [
    "df = df2.filter(pl.col(\"country\").is_in(min_countries))\n",
    "df = df.filter(~pl.col(\"country\").is_in(extra_contries))\n",
    "df"
   ]
  },
  {
   "cell_type": "code",
   "execution_count": null,
   "id": "cd2c6d95",
   "metadata": {},
   "outputs": [],
   "source": [
    "# flagged = df.with_columns(\n",
    "#     all=pl.all_horizontal(\n",
    "# 'fertility_rate',\n",
    "#  'gdp_per_capita',\n",
    "#  'government_expenditure',\n",
    "#  'trade',\n",
    "#  'life_expectancy',\n",
    "#  'gdp_per_capita_growth',\n",
    "#  'inflation',\n",
    "#  'population_growth',\n",
    "#  'gross_capital_formation',\n",
    "#  'domestic_bank',\n",
    "#  'advanced_economy')\n",
    "# )\n",
    "# remove = flagged.filter(pl.col(\"all\").is_null()).select(pl.col(\"country\")).to_series().unique().to_list()\n",
    "# df = df.filter(pl.col(\"country\").is_in(remove))\n",
    "# df"
   ]
  },
  {
   "cell_type": "code",
   "execution_count": null,
   "id": "b1dce8e9",
   "metadata": {},
   "outputs": [],
   "source": [
    "df.select(cs.ends_with(\"_dummy\"))"
   ]
  },
  {
   "cell_type": "code",
   "execution_count": null,
   "id": "c74a0cf9",
   "metadata": {},
   "outputs": [],
   "source": [
    "data = df.to_pandas()\n",
    "data = data.sort_values([\"year\", \"country\"])\n",
    "columns = [\n",
    "    \"fertility_rate\",\n",
    "    \"gdp_per_capita\",\n",
    "    \"government_expenditure\",\n",
    "    \"trade\",\n",
    "    \"life_expectancy\",\n",
    "    \"gdp_per_capita_growth\",\n",
    "    \"inflation\",\n",
    "    \"population_growth\",\n",
    "    \"gross_capital_formation\",\n",
    "    \"domestic_bank\",\n",
    "    \n",
    "]\n",
    "for col in columns:\n",
    "    data[col] = data.groupby(\"country\")[col].transform(\n",
    "        lambda group: group.interpolate(method=\"linear\")\n",
    "    )\n",
    "data = data.sort_values([\"country\", \"year\"])\n",
    "data = data[data[\"year\"] >= 1990]\n",
    "msno.matrix(data.sort_values([\"country\", \"year\"]))"
   ]
  }
 ],
 "metadata": {
  "kernelspec": {
   "display_name": ".venv",
   "language": "python",
   "name": "python3"
  },
  "language_info": {
   "codemirror_mode": {
    "name": "ipython",
    "version": 3
   },
   "file_extension": ".py",
   "mimetype": "text/x-python",
   "name": "python",
   "nbconvert_exporter": "python",
   "pygments_lexer": "ipython3",
   "version": "3.12.11"
  }
 },
 "nbformat": 4,
 "nbformat_minor": 5
}
