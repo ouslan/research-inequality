{
 "cells": [
  {
   "cell_type": "code",
   "execution_count": null,
   "id": "66330098",
   "metadata": {},
   "outputs": [],
   "source": [
    "import os\n",
    "os.chdir(\"..\")"
   ]
  },
  {
   "cell_type": "code",
   "execution_count": null,
   "id": "61ff69c5",
   "metadata": {},
   "outputs": [],
   "source": [
    "import world_bank_data as wb\n",
    "import pandas as pd\n",
    "import polars as pl\n",
    "import arviz as az\n",
    "import bambi as bmb\n",
    "import matplotlib.pyplot as plt\n",
    "import numpy as np\n",
    "import pandas as pd\n",
    "from src.data.data_pull import DataClean\n",
    "\n",
    "dc = DataClean()"
   ]
  },
  {
   "cell_type": "markdown",
   "id": "fccc6dd1",
   "metadata": {},
   "source": [
    "# TODO\n",
    "- colapse by 5 average\n",
    "- keep the balance data\n",
    "- "
   ]
  },
  {
   "cell_type": "code",
   "execution_count": null,
   "id": "fce269bb",
   "metadata": {},
   "outputs": [],
   "source": [
    "dc.pull_wb().drop_nulls().select(pl.col(\"country\")).unique()"
   ]
  },
  {
   "cell_type": "code",
   "execution_count": null,
   "id": "5fff33b1",
   "metadata": {},
   "outputs": [],
   "source": [
    "df = pl.DataFrame(wb.get_countries())\n",
    "df"
   ]
  },
  {
   "cell_type": "code",
   "execution_count": null,
   "id": "fa799e70",
   "metadata": {},
   "outputs": [],
   "source": [
    "df = dc.wb_data(params=[\"GFDD.OI.01\"],year=1980)\n",
    "df"
   ]
  },
  {
   "cell_type": "code",
   "execution_count": null,
   "id": "51b0dbbe",
   "metadata": {},
   "outputs": [],
   "source": []
  },
  {
   "cell_type": "code",
   "execution_count": null,
   "id": "e334b66e",
   "metadata": {},
   "outputs": [],
   "source": [
    "columns = [\n",
    "    'gdp_growth', 'spending', 'gini',\n",
    "    'expenses'\n",
    "]\n",
    "data = df.to_pandas()\n",
    "\n",
    "# Step 1: Sort the DataFrame\n",
    "data = data[data[\"country\"] != \"World\"]\n",
    "data = data[data[\"country\"] == \"United States\"]\n",
    "data = data.sort_values(by=['year', 'country']).reset_index(drop=True)\n",
    "\n",
    "# Step 2: Interpolate each column by zip group\n",
    "# data[columns] = data.groupby('country')[columns].transform(\n",
    "#     lambda group: group.interpolate(method='linear', limit_direction='both')\n",
    "# )\n",
    "data = data.dropna(subset=[\"gdp_growth\"]).reset_index(drop=True)\n",
    "data = data.dropna(subset=[\"expenses\"]).reset_index(drop=True)\n",
    "data"
   ]
  },
  {
   "cell_type": "code",
   "execution_count": null,
   "id": "7afd3e17",
   "metadata": {},
   "outputs": [],
   "source": [
    "def plot_knots(knots, ax):\n",
    "    for knot in knots:\n",
    "        ax.axvline(knot, color=\"0.1\", alpha=0.4)\n",
    "    return ax"
   ]
  },
  {
   "cell_type": "code",
   "execution_count": null,
   "id": "803e958f",
   "metadata": {},
   "outputs": [],
   "source": [
    "num_knots = 5\n",
    "knots = np.quantile(data[\"expenses\"], np.linspace(0, 1, num_knots))\n",
    "iknots = knots[1:-1]\n",
    "priors = {\n",
    "    \"Intercept\": bmb.Prior(\"Normal\", mu=100, sigma=10),\n",
    "    \"common\": bmb.Prior(\"Normal\", mu=0, sigma=10), \n",
    "    \"sigma\": bmb.Prior(\"Exponential\", lam=1)\n",
    "}\n",
    "model = bmb.Model(\"gdp_growth ~ year + bs(expenses, knots=iknots, intercept=True)\", data, dropna=True, priors=priors)"
   ]
  },
  {
   "cell_type": "code",
   "execution_count": null,
   "id": "bcd9203b",
   "metadata": {},
   "outputs": [],
   "source": [
    "def plot_spline_basis(basis, expenses, figsize=(10, 6)):\n",
    "    df = (\n",
    "        pd.DataFrame(basis)\n",
    "        .assign(expenses=expenses)\n",
    "        .melt(\"expenses\", var_name=\"basis_idx\", value_name=\"gdp_growth\")\n",
    "    )\n",
    "\n",
    "    _, ax = plt.subplots(figsize=figsize)\n",
    "\n",
    "    for idx in df.basis_idx.unique():\n",
    "        d = df[df.basis_idx == idx]\n",
    "        ax.plot(d[\"expenses\"], d[\"gdp_growth\"])\n",
    "    \n",
    "    return ax"
   ]
  },
  {
   "cell_type": "code",
   "execution_count": null,
   "id": "8848b08c",
   "metadata": {},
   "outputs": [],
   "source": [
    "B = model.components[\"mu\"].design.common[\"bs(expenses, knots=iknots, intercept=True)\"]\n",
    "ax = plot_spline_basis(B, data[\"expenses\"].values)\n",
    "plot_knots(knots, ax);"
   ]
  },
  {
   "cell_type": "code",
   "execution_count": null,
   "id": "5acbf83d",
   "metadata": {},
   "outputs": [],
   "source": [
    "# The seed is to make results reproducible\n",
    "idata = model.fit(idata_kwargs={\"log_likelihood\": True})"
   ]
  },
  {
   "cell_type": "code",
   "execution_count": null,
   "id": "2159d6a8",
   "metadata": {},
   "outputs": [],
   "source": [
    "az.plot_trace(idata);"
   ]
  },
  {
   "cell_type": "code",
   "execution_count": null,
   "id": "58965cae",
   "metadata": {},
   "outputs": [],
   "source": []
  },
  {
   "cell_type": "code",
   "execution_count": null,
   "id": "21028a1b",
   "metadata": {},
   "outputs": [],
   "source": [
    "posterior_stacked = az.extract(idata)\n",
    "wp = posterior_stacked[\"bs(expenses, knots=iknots, intercept=True)\"].mean(\"sample\").values\n",
    "\n",
    "ax = plot_spline_basis(B * wp.T, data[\"expenses\"].values)\n",
    "ax.plot(data.expenses.values, np.dot(B, wp.T), color=\"black\", lw=3)\n",
    "plot_knots(knots, ax);"
   ]
  }
 ],
 "metadata": {
  "kernelspec": {
   "display_name": ".venv",
   "language": "python",
   "name": "python3"
  },
  "language_info": {
   "codemirror_mode": {
    "name": "ipython",
    "version": 3
   },
   "file_extension": ".py",
   "mimetype": "text/x-python",
   "name": "python",
   "nbconvert_exporter": "python",
   "pygments_lexer": "ipython3",
   "version": "3.12.9"
  }
 },
 "nbformat": 4,
 "nbformat_minor": 5
}
