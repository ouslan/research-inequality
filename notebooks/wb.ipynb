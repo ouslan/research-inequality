{
 "cells": [
  {
   "cell_type": "code",
   "execution_count": null,
   "id": "66330098",
   "metadata": {},
   "outputs": [],
   "source": [
    "import os\n",
    "os.chdir(\"..\")"
   ]
  },
  {
   "cell_type": "code",
   "execution_count": null,
   "id": "61ff69c5",
   "metadata": {},
   "outputs": [],
   "source": [
    "import world_bank_data as wb\n",
    "import pandas as pd\n",
    "import polars as pl\n",
    "import missingno as msno\n",
    "import numpy as np\n",
    "import pandas as pd\n",
    "from src.data.data_pull import DataClean\n",
    "import seaborn as sns\n",
    "import matplotlib.pyplot as plt\n",
    "\n",
    "dc = DataClean()"
   ]
  },
  {
   "cell_type": "markdown",
   "id": "fccc6dd1",
   "metadata": {},
   "source": [
    "# TODO\n",
    "- colapse by 5 average\n",
    "- keep the balance data\n",
    "- "
   ]
  },
  {
   "cell_type": "code",
   "execution_count": null,
   "id": "465ef8d6",
   "metadata": {},
   "outputs": [],
   "source": [
    "df = dc.pull_wb()\n",
    "df = df.filter(pl.col(\"year\") >= 1990)\n",
    "data = pl.read_csv(\"data/external/countries.csv\")\n",
    "df = df.join(data, on=\"country\", how=\"inner\", validate=\"m:1\")\n",
    "df = df.select(\n",
    "    pl.col(\n",
    "        'year',\n",
    "        'country',\n",
    "        'fertility_rate',\n",
    "        'gdp_per_capita',\n",
    "        'government_expenditure',\n",
    "        'trade',\n",
    "        'life_expectancy',\n",
    "        'gdp_per_capita_growth',\n",
    "        'inflation',\n",
    "        'population_growth',\n",
    "        'gross_capital_formation',\n",
    "        'domestic_bank',\n",
    "        'advanced_economy')\n",
    ")\n",
    "df = df.with_columns(\n",
    "    fertility_rate_dummy=pl.when(pl.col(\"fertility_rate\").is_null()).then(1).otherwise(0),\n",
    "    gdp_per_capita_dummy=pl.when(pl.col(\"gdp_per_capita\").is_null()).then(1).otherwise(0),\n",
    "    government_expenditure_dummy=pl.when(pl.col(\"government_expenditure\").is_null()).then(1).otherwise(0),\n",
    "    trade_dummy=pl.when(pl.col(\"trade\").is_null()).then(1).otherwise(0),\n",
    "    life_expectancy_dummy=pl.when(pl.col(\"life_expectancy\").is_null()).then(1).otherwise(0),\n",
    "    gdp_per_capita_growth_dummy=pl.when(pl.col(\"gdp_per_capita_growth\").is_null()).then(1).otherwise(0),\n",
    "    inflation_dummy=pl.when(pl.col(\"inflation\").is_null()).then(1).otherwise(0),\n",
    "    population_growth_dummy=pl.when(pl.col(\"population_growth\").is_null()).then(1).otherwise(0),\n",
    "    gross_capital_formation_dummy=pl.when(pl.col(\"gross_capital_formation\").is_null()).then(1).otherwise(0),\n",
    "    domestic_bank_dummy=pl.when(pl.col(\"domestic_bank\").is_null()).then(1).otherwise(0),\n",
    "    advanced_economy_dummy=pl.when(pl.col(\"advanced_economy\").is_null()).then(1).otherwise(0)\n",
    ")\n",
    "df2 = df\n"
   ]
  },
  {
   "cell_type": "code",
   "execution_count": null,
   "id": "3dc1daf0",
   "metadata": {},
   "outputs": [],
   "source": [
    "msno.matrix(df.to_pandas().sort_values([\"year\",\"country\"]))"
   ]
  },
  {
   "cell_type": "code",
   "execution_count": null,
   "id": "b51b9e79",
   "metadata": {},
   "outputs": [],
   "source": [
    "import matplotlib.pyplot as plt\n",
    "\n",
    "# Count the number of 1's (missing values) in each dummy column\n",
    "dummy_columns = [\n",
    "    \"fertility_rate_dummy\",\n",
    "    \"gdp_per_capita_dummy\",\n",
    "    \"government_expenditure_dummy\",\n",
    "    \"trade_dummy\",\n",
    "    \"life_expectancy_dummy\",\n",
    "    \"gdp_per_capita_growth_dummy\",\n",
    "    \"inflation_dummy\",\n",
    "    \"population_growth_dummy\",\n",
    "    \"gross_capital_formation_dummy\",\n",
    "    \"domestic_bank_dummy\",\n",
    "]\n",
    "\n",
    "# Total number of rows in the dataframe\n",
    "total_rows = df.height\n",
    "\n",
    "# Calculate the percentage of missing values (1's) in each dummy column\n",
    "percent_missing = {}\n",
    "for column in dummy_columns:\n",
    "    missing_count = df.filter(pl.col(column) == 1).height  # Count the number of 1's\n",
    "    percent_missing[column] = (missing_count / total_rows) * 100  # Calculate the percentage\n",
    "\n",
    "# Sort the percentages for better visualization\n",
    "sorted_columns = sorted(percent_missing, key=percent_missing.get, reverse=True)\n",
    "sorted_percentages = [percent_missing[col] for col in sorted_columns]\n",
    "\n",
    "# Plotting the bar chart\n",
    "plt.figure(figsize=(10, 6))\n",
    "plt.barh(sorted_columns, sorted_percentages)\n",
    "plt.xlabel(\"Percentage of Missing Values (%)\")\n",
    "plt.title(\"Percentage of Missing Values for Dummy Columns\")\n",
    "plt.gca().invert_yaxis()  # To have the highest percentage at the top\n",
    "plt.show()"
   ]
  },
  {
   "cell_type": "code",
   "execution_count": null,
   "id": "ac4e2641",
   "metadata": {},
   "outputs": [],
   "source": [
    "import matplotlib.pyplot as plt\n",
    "import pandas as pd\n",
    "\n",
    "# List of dummy columns to check for missing values\n",
    "dummy_columns = [\n",
    "    \"fertility_rate_dummy\",\n",
    "    \"gdp_per_capita_dummy\",\n",
    "    \"government_expenditure_dummy\",\n",
    "    \"trade_dummy\",\n",
    "    \"life_expectancy_dummy\",\n",
    "    \"gdp_per_capita_growth_dummy\",\n",
    "    \"inflation_dummy\",\n",
    "    \"population_growth_dummy\",\n",
    "    \"gross_capital_formation_dummy\",\n",
    "    \"domestic_bank_dummy\",\n",
    "]\n",
    "\n",
    "# Group by 'country' and calculate the percentage of missing values for each country\n",
    "missing_percentage_by_country = []\n",
    "\n",
    "# Loop through countries\n",
    "for country in df[\"country\"].unique():\n",
    "    country_df = df.filter(pl.col(\"country\") == country)\n",
    "    \n",
    "    # Calculate percentage of missing values for each dummy column in the country\n",
    "    country_percentage = {}\n",
    "    for column in dummy_columns:\n",
    "        missing_count = country_df.filter(pl.col(column) == 1).height\n",
    "        total_count = country_df.height\n",
    "        missing_percentage = (missing_count / total_count) * 100 / 12\n",
    "        country_percentage[column] = missing_percentage\n",
    "    \n",
    "    # Add the country data to the list\n",
    "    missing_percentage_by_country.append((country, country_percentage))\n",
    "\n",
    "# Convert the results into a DataFrame for easier plotting\n",
    "country_names = [entry[0] for entry in missing_percentage_by_country]\n",
    "country_percentages = [entry[1] for entry in missing_percentage_by_country]\n",
    "\n",
    "# Create a DataFrame\n",
    "country_df = pd.DataFrame(country_percentages, index=country_names)\n",
    "\n",
    "# Split the countries into 4 roughly equal groups\n",
    "country_chunks = [country_df.iloc[i:i + len(country_df) // 4] for i in range(0, len(country_df), len(country_df) // 4)]\n",
    "\n",
    "# Create 4 subplots for the 4 chunks\n",
    "fig, axes = plt.subplots(2, 2, figsize=(14, 10), sharey=True)\n",
    "axes = axes.flatten()\n",
    "\n",
    "# Plot each chunk in a different subplot\n",
    "for idx, chunk in enumerate(country_chunks):\n",
    "    if idx == 4:\n",
    "        continue\n",
    "    chunk.plot(kind='bar', stacked=True, ax=axes[idx], colormap='coolwarm', width=0.8)\n",
    "    axes[idx].set_title(f\"Missing Data for Countries {chunk.index[0]} to {chunk.index[-1]}\")\n",
    "    axes[idx].set_xlabel(\"Country\")\n",
    "    axes[idx].set_ylabel(\"Percentage of Missing Values (%)\")\n",
    "    axes[idx].tick_params(axis='x', rotation=45)\n",
    "\n",
    "# Adjust layout\n",
    "plt.tight_layout()\n",
    "plt.legend(title=\"Variables\", bbox_to_anchor=(1.05, 1), loc='upper left')\n",
    "plt.show()\n"
   ]
  },
  {
   "cell_type": "code",
   "execution_count": null,
   "id": "1b5d8f52",
   "metadata": {},
   "outputs": [],
   "source": [
    "country_list = pl.from_pandas(country_df.reset_index())\n",
    "min_countries = country_list.with_columns(\n",
    "    total_pct = pl.concat_list(dummy_columns).list.sum()\n",
    ").filter(pl.col(\"total_pct\") <= 5).select(pl.col(\"index\")).to_series().to_list()\n",
    "len(min_countries)"
   ]
  },
  {
   "cell_type": "code",
   "execution_count": null,
   "id": "bc39b10c",
   "metadata": {},
   "outputs": [],
   "source": [
    "df = dc.pull_wb()\n",
    "# df = df.filter(pl.col(\"year\") >= 1990)\n",
    "data = pl.read_csv(\"data/external/countries.csv\")\n",
    "df = df.join(data, on=\"country\", how=\"inner\", validate=\"m:1\")\n",
    "df = df.select(\n",
    "    pl.col(\n",
    "        'year',\n",
    "        'country',\n",
    "        'fertility_rate',\n",
    "        'gdp_per_capita',\n",
    "        'government_expenditure',\n",
    "        'trade',\n",
    "        'life_expectancy',\n",
    "        'gdp_per_capita_growth',\n",
    "        'inflation',\n",
    "        'population_growth',\n",
    "        'gross_capital_formation',\n",
    "        'domestic_bank',\n",
    "        'advanced_economy')\n",
    ")"
   ]
  },
  {
   "cell_type": "code",
   "execution_count": null,
   "id": "3f398f30",
   "metadata": {},
   "outputs": [],
   "source": [
    "extra_contries = ['Iraq', 'Malta', 'Slovak Republic', 'Slovenia','Guinea', 'Mozambique','Namibia', 'Sierra Leone',\"Solomon Islands\"]\n",
    "extra2 = ['Albania', 'Armenia', 'Austria', 'Azerbaijan', 'Belarus',\n",
    "       'Belgium', 'Brunei Darussalam', 'Bulgaria', 'Cambodia', 'Cyprus',\n",
    "       'Finland', 'France', 'Georgia', 'Germany', 'Greece', 'Ireland',\n",
    "       'Italy', 'Kazakhstan', 'Kuwait', 'Kyrgyz Republic', 'Luxembourg',\n",
    "       'Moldova', 'Mongolia', 'North Macedonia', 'Portugal', 'Spain',\n",
    "       'Ukraine','Benin', 'Nicaragua', 'Oman', 'Romania', 'Uganda',\n",
    "       'Aruba', 'Haiti', 'Hungary', 'Poland', 'Qatar']"
   ]
  },
  {
   "cell_type": "code",
   "execution_count": null,
   "id": "55b5006e",
   "metadata": {},
   "outputs": [],
   "source": [
    "df = df2.filter(pl.col(\"country\").is_in(min_countries))\n",
    "df = df.filter(~pl.col(\"country\").is_in(extra_contries))\n",
    "df = df.filter(~pl.col(\"country\").is_in(extra2))"
   ]
  },
  {
   "cell_type": "code",
   "execution_count": null,
   "id": "9d2723ab",
   "metadata": {},
   "outputs": [],
   "source": [
    "data = df.to_pandas()\n",
    "msno.matrix(data.sort_values([\"country\", \"year\"]))"
   ]
  },
  {
   "cell_type": "code",
   "execution_count": null,
   "id": "5d8b1ffa",
   "metadata": {},
   "outputs": [],
   "source": [
    "data = df.to_pandas()\n",
    "data = data.sort_values([\"year\", \"country\"])\n",
    "columns = [\n",
    "    \"fertility_rate\",\n",
    "    \"gdp_per_capita\",\n",
    "    \"government_expenditure\",\n",
    "    \"trade\",\n",
    "    \"life_expectancy\",\n",
    "    \"gdp_per_capita_growth\",\n",
    "    \"inflation\",\n",
    "    \"population_growth\",\n",
    "    \"gross_capital_formation\",\n",
    "    \"domestic_bank\",\n",
    "    \n",
    "]\n",
    "for col in columns:\n",
    "    print(col)\n",
    "    data[col] = data.groupby(\"country\")[col].transform(\n",
    "        lambda group: group.interpolate(method=\"linear\")\n",
    "    )\n",
    "data = data.sort_values([\"country\", \"year\"])\n",
    "data = data[data[\"year\"] >= 1990]\n",
    "msno.matrix(data.sort_values([\"country\", \"year\"]))"
   ]
  },
  {
   "cell_type": "code",
   "execution_count": null,
   "id": "d3539a93",
   "metadata": {},
   "outputs": [],
   "source": [
    "data[data[\"government_expenditure\"].isnull()][\"country\"].unique()"
   ]
  },
  {
   "cell_type": "code",
   "execution_count": null,
   "id": "b539b91d",
   "metadata": {},
   "outputs": [],
   "source": [
    "data.to_csv(\"data_1990.csv\")"
   ]
  },
  {
   "cell_type": "code",
   "execution_count": null,
   "id": "cc459930",
   "metadata": {},
   "outputs": [],
   "source": [
    "data[\"advanced_economy\"][data[\"year\"] == 2020].sum()"
   ]
  },
  {
   "cell_type": "code",
   "execution_count": null,
   "id": "eaa98287",
   "metadata": {},
   "outputs": [],
   "source": [
    "data[\"advanced_economy\"][data[\"year\"] == 2020].count()"
   ]
  },
  {
   "cell_type": "code",
   "execution_count": null,
   "id": "ed35e47c",
   "metadata": {},
   "outputs": [],
   "source": [
    "data[data[\"domestic_bank\"].isnull()][\"country\"].unique()"
   ]
  },
  {
   "cell_type": "code",
   "execution_count": null,
   "id": "2c12679e",
   "metadata": {},
   "outputs": [],
   "source": [
    "data.sort_values([\"country\", \"year\"])"
   ]
  },
  {
   "cell_type": "code",
   "execution_count": null,
   "id": "2e74ebdf",
   "metadata": {},
   "outputs": [],
   "source": [
    "\n",
    "msno.matrix(df.to_pandas())"
   ]
  },
  {
   "cell_type": "code",
   "execution_count": null,
   "id": "b2dabf02",
   "metadata": {},
   "outputs": [],
   "source": [
    "import matplotlib.pyplot as plt\n",
    "\n",
    "df = df2.filter(pl.col(\"country\").is_in(min_countries))\n",
    "\n",
    "# Count the number of 1's (missing values) in each dummy column\n",
    "dummy_columns = [\n",
    "    \"fertility_rate_dummy\",\n",
    "    \"gdp_per_capita_dummy\",\n",
    "    \"government_expenditure_dummy\",\n",
    "    \"trade_dummy\",\n",
    "    \"life_expectancy_dummy\",\n",
    "    \"gdp_per_capita_growth_dummy\",\n",
    "    \"inflation_dummy\",\n",
    "    \"population_growth_dummy\",\n",
    "    \"gross_capital_formation_dummy\",\n",
    "    \"domestic_bank_dummy\",\n",
    "]\n",
    "\n",
    "# Total number of rows in the dataframe\n",
    "total_rows = df.height\n",
    "\n",
    "# Calculate the percentage of missing values (1's) in each dummy column\n",
    "percent_missing = {}\n",
    "for column in dummy_columns:\n",
    "    missing_count = df.filter(pl.col(column) == 1).height  # Count the number of 1's\n",
    "    percent_missing[column] = (missing_count / total_rows) * 100  # Calculate the percentage\n",
    "\n",
    "# Sort the percentages for better visualization\n",
    "sorted_columns = sorted(percent_missing, key=percent_missing.get, reverse=True)\n",
    "sorted_percentages = [percent_missing[col] for col in sorted_columns]\n",
    "\n",
    "# Plotting the bar chart\n",
    "plt.figure(figsize=(10, 6))\n",
    "plt.barh(sorted_columns, sorted_percentages)\n",
    "plt.xlabel(\"Percentage of Missing Values (%)\")\n",
    "plt.title(\"Percentage of Missing Values for Dummy Columns\")\n",
    "plt.gca().invert_yaxis()  # To have the highest percentage at the top\n",
    "plt.show()"
   ]
  },
  {
   "cell_type": "code",
   "execution_count": null,
   "id": "d5c43313",
   "metadata": {},
   "outputs": [],
   "source": [
    "temp = df2.filter(pl.col(\"country\").is_in(min_countries))\n",
    "temp.filter(pl.col(\"year\") == 2015).select(pl.col(\"advanced_economy\")).sum()"
   ]
  },
  {
   "cell_type": "code",
   "execution_count": null,
   "id": "f299f528",
   "metadata": {},
   "outputs": [],
   "source": [
    "temp.select(pl.col(\"year\")).max()"
   ]
  },
  {
   "cell_type": "code",
   "execution_count": null,
   "id": "241dfd81",
   "metadata": {},
   "outputs": [],
   "source": [
    "temp"
   ]
  },
  {
   "cell_type": "code",
   "execution_count": null,
   "id": "88d60fa3",
   "metadata": {},
   "outputs": [],
   "source": [
    "len(min_countries)"
   ]
  },
  {
   "cell_type": "code",
   "execution_count": null,
   "id": "f1f784d2",
   "metadata": {},
   "outputs": [],
   "source": [
    "import matplotlib.pyplot as plt\n",
    "import pandas as pd\n",
    "\n",
    "\n",
    "df = df2.filter(pl.col(\"country\").is_in(min_countries))\n",
    "\n",
    "# List of dummy columns to check for missing values\n",
    "dummy_columns = [\n",
    "    \"fertility_rate_dummy\",\n",
    "    \"gdp_per_capita_dummy\",\n",
    "    \"government_expenditure_dummy\",\n",
    "    \"trade_dummy\",\n",
    "    \"life_expectancy_dummy\",\n",
    "    \"gdp_per_capita_growth_dummy\",\n",
    "    \"inflation_dummy\",\n",
    "    \"population_growth_dummy\",\n",
    "    \"gross_capital_formation_dummy\",\n",
    "    \"domestic_bank_dummy\",\n",
    "]\n",
    "\n",
    "# Group by 'country' and calculate the percentage of missing values for each country\n",
    "missing_percentage_by_country = []\n",
    "\n",
    "# Loop through countries\n",
    "for country in df[\"country\"].unique():\n",
    "    country_df = df.filter(pl.col(\"country\") == country)\n",
    "    \n",
    "    # Calculate percentage of missing values for each dummy column in the country\n",
    "    country_percentage = {}\n",
    "    for column in dummy_columns:\n",
    "        missing_count = country_df.filter(pl.col(column) == 1).height\n",
    "        total_count = country_df.height\n",
    "        missing_percentage = (missing_count / total_count) * 100 / 12\n",
    "        country_percentage[column] = missing_percentage\n",
    "    \n",
    "    # Add the country data to the list\n",
    "    missing_percentage_by_country.append((country, country_percentage))\n",
    "\n",
    "# Convert the results into a DataFrame for easier plotting\n",
    "country_names = [entry[0] for entry in missing_percentage_by_country]\n",
    "country_percentages = [entry[1] for entry in missing_percentage_by_country]\n",
    "\n",
    "# Create a DataFrame\n",
    "country_df = pd.DataFrame(country_percentages, index=country_names)\n",
    "\n",
    "# Split the countries into 4 roughly equal groups\n",
    "country_chunks = [country_df.iloc[i:i + len(country_df) // 4] for i in range(0, len(country_df), len(country_df) // 4)]\n",
    "\n",
    "# Create 4 subplots for the 4 chunks\n",
    "fig, axes = plt.subplots(2, 2, figsize=(14, 10), sharey=True)\n",
    "axes = axes.flatten()\n",
    "\n",
    "# Plot each chunk in a different subplot\n",
    "for idx, chunk in enumerate(country_chunks):\n",
    "    if idx == 4:\n",
    "        continue\n",
    "    chunk.plot(kind='bar', stacked=True, ax=axes[idx], colormap='coolwarm', width=0.8)\n",
    "    axes[idx].set_title(f\"Missing Data for Countries {chunk.index[0]} to {chunk.index[-1]}\")\n",
    "    axes[idx].set_xlabel(\"Country\")\n",
    "    axes[idx].set_ylabel(\"Percentage of Missing Values (%)\")\n",
    "    axes[idx].tick_params(axis='x', rotation=45)\n",
    "\n",
    "# Adjust layout\n",
    "plt.tight_layout()\n",
    "plt.legend(title=\"Variables\", bbox_to_anchor=(1.05, 1), loc='upper left')\n",
    "plt.show()\n"
   ]
  },
  {
   "cell_type": "code",
   "execution_count": null,
   "id": "87f2456d",
   "metadata": {},
   "outputs": [],
   "source": [
    "df"
   ]
  },
  {
   "cell_type": "code",
   "execution_count": null,
   "id": "c358eea8",
   "metadata": {},
   "outputs": [],
   "source": [
    "df = df.filter(pl.col(\"year\") >= 1970)\n",
    "# df.write_csv(\"data.csv\")"
   ]
  },
  {
   "cell_type": "code",
   "execution_count": null,
   "id": "5e601f2f",
   "metadata": {},
   "outputs": [],
   "source": [
    "data"
   ]
  },
  {
   "cell_type": "code",
   "execution_count": null,
   "id": "ba82157c",
   "metadata": {},
   "outputs": [],
   "source": [
    "# df = df.filter(pl.col(\"year\") >= 2002)\n",
    "# for cols in  df.columns:\n",
    "#     df = df.filter(pl.col(f\"{cols}\").is_not_null())\n",
    "\n",
    "# units = df.select(\"country\").unique()\n",
    "\n",
    "# min_year = df[\"year\"].min()\n",
    "# max_year = df[\"year\"].max()\n",
    "# years = pl.DataFrame({\"year\": list(range(min_year, max_year + 1))})\n",
    "\n",
    "# full_index = units.join(years, how=\"cross\")\n",
    "\n",
    "# full_df = full_index.join(df, on=[\"country\", \"year\"], how=\"left\")\n",
    "\n",
    "# msno.matrix(full_df.to_pandas().sort_values([\"country\",\"year\"]))"
   ]
  },
  {
   "cell_type": "code",
   "execution_count": null,
   "id": "f2a7615a",
   "metadata": {},
   "outputs": [],
   "source": [
    "msno.matrix(df.to_pandas())"
   ]
  },
  {
   "cell_type": "code",
   "execution_count": null,
   "id": "29b4eae6",
   "metadata": {},
   "outputs": [],
   "source": [
    "df = df.filter(pl.col(\"year\") >= 1970)\n",
    "pivoted = df.pivot(\n",
    "    values=\"school_primary\",\n",
    "    index=\"year\",\n",
    "    on=\"country\"\n",
    ")\n",
    "msno.bar(pivoted.to_pandas(), sort='descending')"
   ]
  },
  {
   "cell_type": "code",
   "execution_count": null,
   "id": "72f9dddb",
   "metadata": {},
   "outputs": [],
   "source": [
    "pivoted = df.pivot(\n",
    "    values=\"school_primary\",\n",
    "    index=\"country\",\n",
    "    on=\"year\"\n",
    ")\n",
    "# pivoted.set_index(['year'], inplace=True)\n",
    "for year2 in range(2005,2022):\n",
    "    res = pivoted.filter(pl.col(f\"{year2}\").is_not_null()).select(pl.col(\"country\")).to_series().unique().to_list()\n",
    "    for year in range(year2 +1,2022):\n",
    "        tmp = pivoted.filter(pl.col(f\"{year}\").is_not_null()).select(pl.col(\"country\")).to_series().unique().to_list()\n",
    "        res = list(set(res) & set(tmp))\n",
    "    print(f\"Amount of countries {len(res)}\")\n",
    "    print(f\"start year {year2}\")   "
   ]
  },
  {
   "cell_type": "code",
   "execution_count": null,
   "id": "d27d97da",
   "metadata": {},
   "outputs": [],
   "source": [
    "pivoted"
   ]
  },
  {
   "cell_type": "code",
   "execution_count": null,
   "id": "05d9277f",
   "metadata": {},
   "outputs": [],
   "source": [
    "countries = pivoted.filter(pl.col(\"2005\").is_not_null()).select(pl.col(\"country\")).to_series().unique().to_list()\n",
    "len(countries)"
   ]
  },
  {
   "cell_type": "code",
   "execution_count": null,
   "id": "08bb765e",
   "metadata": {},
   "outputs": [],
   "source": [
    "# countries2 = pivoted.filter(pl.col(\"2005\").is_not_null()).select(pl.col(\"country\")).to_series().unique().to_list()\n",
    "# countries2 = pivoted.filter(pl.col(\"2004\").is_not_null()).select(pl.col(\"country\")).to_series().unique().to_list()\n",
    "# res = list(set(countries2) & set(countries2))\n",
    "\n",
    "for year2 in range(2005,2022):\n",
    "    res = pivoted.filter(pl.col(f\"{year2}\").is_not_null()).select(pl.col(\"country\")).to_series().unique().to_list()\n",
    "    for year in range(year2 +1,2022):\n",
    "        tmp = pivoted.filter(pl.col(f\"{year}\").is_not_null()).select(pl.col(\"country\")).to_series().unique().to_list()\n",
    "        res = list(set(res) & set(tmp))\n",
    "    print(f\"Amount of countries {len(res)}\")\n",
    "    print(f\"start year {year2}\")   "
   ]
  },
  {
   "cell_type": "code",
   "execution_count": null,
   "id": "a6e0befb",
   "metadata": {},
   "outputs": [],
   "source": []
  },
  {
   "cell_type": "code",
   "execution_count": null,
   "id": "d3ff3d80",
   "metadata": {},
   "outputs": [],
   "source": [
    "df1 = df\n",
    "res = pivoted.filter(pl.col(1970).is_not_null()).select(pl.col(\"country\")).to_series().unique().to_list()\n",
    "for year in range(1970,2024):\n",
    "    tmp = pivoted.filter(pl.col(f\"{year}\").is_not_null()).select(pl.col(\"country\")).to_series().unique().to_list()\n",
    "    res = list(set(res) & set(tmp))\n",
    "# tmp = pivoted.filter(pl.col(f\"\").is_not_null()).select(pl.col(\"country\")).to_series().unique().to_list()\n",
    "df1 = df1.filter(pl.col(\"country\").is_in(res))\n",
    "# df1 = df1.filter((pl.col(\"year\") >= 2002))\n",
    "df1 = df1.to_pandas().sort_values([\"year\",\"country\"])\n",
    "msno.matrix(df1)"
   ]
  },
  {
   "cell_type": "code",
   "execution_count": null,
   "id": "9ef04911",
   "metadata": {},
   "outputs": [],
   "source": [
    "len(df1.select(pl.col(\"country\")).to_series().unique().to_list())"
   ]
  },
  {
   "cell_type": "code",
   "execution_count": null,
   "id": "23d4a843",
   "metadata": {},
   "outputs": [],
   "source": [
    "df.write_csv(\"data/processed/dataset2.csv\")"
   ]
  }
 ],
 "metadata": {
  "kernelspec": {
   "display_name": ".venv",
   "language": "python",
   "name": "python3"
  },
  "language_info": {
   "codemirror_mode": {
    "name": "ipython",
    "version": 3
   },
   "file_extension": ".py",
   "mimetype": "text/x-python",
   "name": "python",
   "nbconvert_exporter": "python",
   "pygments_lexer": "ipython3",
   "version": "3.12.11"
  }
 },
 "nbformat": 4,
 "nbformat_minor": 5
}
