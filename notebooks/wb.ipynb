{
 "cells": [
  {
   "cell_type": "code",
   "execution_count": null,
   "id": "66330098",
   "metadata": {},
   "outputs": [],
   "source": [
    "import os\n",
    "os.chdir(\"..\")"
   ]
  },
  {
   "cell_type": "code",
   "execution_count": null,
   "id": "61ff69c5",
   "metadata": {},
   "outputs": [],
   "source": [
    "import world_bank_data as wb\n",
    "import pandas as pd\n",
    "import polars as pl\n",
    "import missingno as msno\n",
    "import numpy as np\n",
    "import pandas as pd\n",
    "from src.data.data_pull import DataClean\n",
    "import seaborn as sns\n",
    "import matplotlib.pyplot as plt\n",
    "\n",
    "dc = DataClean()"
   ]
  },
  {
   "cell_type": "markdown",
   "id": "fccc6dd1",
   "metadata": {},
   "source": [
    "# TODO\n",
    "- colapse by 5 average\n",
    "- keep the balance data\n",
    "- "
   ]
  },
  {
   "cell_type": "code",
   "execution_count": null,
   "id": "5a5ae36d",
   "metadata": {},
   "outputs": [],
   "source": [
    "df = dc.pull_wb()\n",
    "data = pl.read_csv(\"data/external/countries.csv\")\n",
    "df = df.join(data, on=\"country\", how=\"inner\", validate=\"m:1\")\n",
    "msno.matrix(df.to_pandas())"
   ]
  },
  {
   "cell_type": "code",
   "execution_count": null,
   "id": "ba82157c",
   "metadata": {},
   "outputs": [],
   "source": [
    "df = df.filter(pl.col(\"year\") >= 2002)\n",
    "for cols in  df.columns:\n",
    "    df = df.filter(pl.col(f\"{cols}\").is_not_null())\n",
    "\n",
    "units = df.select(\"country\").unique()\n",
    "\n",
    "min_year = df[\"year\"].min()\n",
    "max_year = df[\"year\"].max()\n",
    "years = pl.DataFrame({\"year\": list(range(min_year, max_year + 1))})\n",
    "\n",
    "full_index = units.join(years, how=\"cross\")\n",
    "\n",
    "full_df = full_index.join(df, on=[\"country\", \"year\"], how=\"left\")\n",
    "\n",
    "msno.matrix(full_df.to_pandas().sort_values([\"country\",\"year\"]))"
   ]
  },
  {
   "cell_type": "code",
   "execution_count": null,
   "id": "29b4eae6",
   "metadata": {},
   "outputs": [],
   "source": [
    "pivoted = full_df.pivot(\n",
    "    values=\"school_primary\",\n",
    "    index=\"year\",\n",
    "    on=\"country\"\n",
    ")\n",
    "msno.bar(pivoted.to_pandas(), sort='descending')"
   ]
  },
  {
   "cell_type": "code",
   "execution_count": null,
   "id": "72f9dddb",
   "metadata": {},
   "outputs": [],
   "source": [
    "pivoted = full_df.pivot(\n",
    "    values=\"trade\",\n",
    "    index=\"country\",\n",
    "    on=\"year\"\n",
    ")\n",
    "# pivoted.set_index(['year'], inplace=True)\n",
    "msno.bar(pivoted.to_pandas())"
   ]
  },
  {
   "cell_type": "code",
   "execution_count": null,
   "id": "05d9277f",
   "metadata": {},
   "outputs": [],
   "source": [
    "countries = pivoted.filter(pl.col(\"2005\").is_not_null()).select(pl.col(\"country\")).to_series().unique().to_list()\n",
    "len(countries)"
   ]
  },
  {
   "cell_type": "code",
   "execution_count": null,
   "id": "d3ff3d80",
   "metadata": {},
   "outputs": [],
   "source": [
    "df1 = full_df\n",
    "df1 = df1.filter(pl.col(\"country\").is_in(countries))\n",
    "df1 = df1.filter((pl.col(\"year\") >= 2002))\n",
    "df1 = df1.to_pandas().sort_values([\"year\",\"country\"])\n",
    "msno.matrix(df1)"
   ]
  },
  {
   "cell_type": "code",
   "execution_count": null,
   "id": "9ef04911",
   "metadata": {},
   "outputs": [],
   "source": [
    "len(df1.select(pl.col(\"country\")).to_series().unique().to_list())"
   ]
  },
  {
   "cell_type": "code",
   "execution_count": null,
   "id": "23d4a843",
   "metadata": {},
   "outputs": [],
   "source": [
    "df.write_csv(\"data/processed/dataset.csv\")"
   ]
  }
 ],
 "metadata": {
  "kernelspec": {
   "display_name": ".venv",
   "language": "python",
   "name": "python3"
  },
  "language_info": {
   "codemirror_mode": {
    "name": "ipython",
    "version": 3
   },
   "file_extension": ".py",
   "mimetype": "text/x-python",
   "name": "python",
   "nbconvert_exporter": "python",
   "pygments_lexer": "ipython3",
   "version": "3.12.9"
  }
 },
 "nbformat": 4,
 "nbformat_minor": 5
}
