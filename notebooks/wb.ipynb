{
 "cells": [
  {
   "cell_type": "code",
   "execution_count": null,
   "id": "66330098",
   "metadata": {},
   "outputs": [],
   "source": [
    "import os\n",
    "os.chdir(\"..\")"
   ]
  },
  {
   "cell_type": "code",
   "execution_count": null,
   "id": "61ff69c5",
   "metadata": {},
   "outputs": [],
   "source": [
    "import world_bank_data as wb\n",
    "import pandas as pd\n",
    "import polars as pl\n",
    "import numpy as np\n",
    "import pandas as pd\n",
    "from src.data.data_pull import DataClean\n",
    "\n",
    "dc = DataClean()"
   ]
  },
  {
   "cell_type": "markdown",
   "id": "fccc6dd1",
   "metadata": {},
   "source": [
    "# TODO\n",
    "- colapse by 5 average\n",
    "- keep the balance data\n",
    "- "
   ]
  },
  {
   "cell_type": "code",
   "execution_count": null,
   "id": "5a5ae36d",
   "metadata": {},
   "outputs": [],
   "source": [
    "dc.pull_wb()"
   ]
  },
  {
   "cell_type": "code",
   "execution_count": null,
   "id": "cde7811f",
   "metadata": {},
   "outputs": [],
   "source": [
    "data = pl.read_csv(\"data/external/countries.csv\")\n",
    "data.count()"
   ]
  },
  {
   "cell_type": "code",
   "execution_count": null,
   "id": "fce269bb",
   "metadata": {},
   "outputs": [],
   "source": [
    "df = dc.pull_wb()\n",
    "df  = df.with_columns(group=pl.col(\"year\")//5 * 5)\n",
    "countries = df.select(pl.col(\"group\")).to_series().unique().to_list()\n",
    "df = df.group_by([\"country\", \"group\"]).agg(\n",
    "    pl.col(\"fertility_rate\").mean(), \n",
    "    pl.col(\"gdp_per_capita\").mean(), \n",
    "    pl.col(\"government_expenditure\").mean(), \n",
    "    pl.col(\"trade\").mean(), \n",
    "    pl.col(\"life_expectancy\").mean(), \n",
    "    pl.col(\"gdp_per_capita_growth\").mean(), \n",
    "    pl.col(\"inflation\").mean(), \n",
    "    pl.col(\"population_growth\").mean(), \n",
    "    pl.col(\"school_primary\").mean(), \n",
    "    pl.col(\"school_secondary\").mean(), \n",
    "    pl.col(\"school_tertiary\").mean(), \n",
    "    pl.col(\"gross_capital_formation\").mean(), \n",
    "    pl.col(\"rule_of_law\").mean(), \n",
    "    pl.col(\"control_of_corruption\").mean(), \n",
    "    pl.col(\"regulatory_quality\").mean(), \n",
    "    pl.col(\"political_stability\").mean(), \n",
    "    pl.col(\"voice\").mean(), \n",
    "    pl.col(\"government_effect\").mean(), \n",
    "    )\n",
    "df = df.join(data, on=\"country\", how=\"inner\", validate=\"m:1\")\n",
    "df = df.filter(pl.col(\"government_effect\").is_not_null())\n",
    "for year in countries:\n",
    "    tmp = df.filter(pl.col(\"group\") == year).select(pl.col(\"country\")).unique().count().item()\n",
    "    print(f\"{year} count {tmp}\")"
   ]
  },
  {
   "cell_type": "code",
   "execution_count": null,
   "id": "7bb4f9eb",
   "metadata": {},
   "outputs": [],
   "source": [
    "df = dc.pull_wb()\n",
    "df = df.join(data, on=\"country\", how=\"inner\", validate=\"m:1\")\n",
    "df  = df.with_columns(group=pl.col(\"year\")//5 * 5)\n",
    "countries = df.select(pl.col(\"year\")).to_series().unique().to_list()\n",
    "data = pl.read_csv(\"data/external/countries.csv\")\n",
    "for cols in  df.columns:\n",
    "    df = df.filter(pl.col(f\"{cols}\").is_not_null())\n",
    "\n",
    "for year in countries:\n",
    "    tmp = df.filter(pl.col(\"group\") == year).select(pl.col(\"country\")).unique().count().item()\n",
    "    print(f\"{year} count {tmp}\")\n",
    "# df  = df.sort(by=[\"country\", \"year\"])\n",
    "df.write_csv(\"data.csv\")"
   ]
  },
  {
   "cell_type": "code",
   "execution_count": null,
   "id": "42f47356",
   "metadata": {},
   "outputs": [],
   "source": [
    "df"
   ]
  },
  {
   "cell_type": "code",
   "execution_count": null,
   "id": "8bdf380b",
   "metadata": {},
   "outputs": [],
   "source": [
    "df.write_csv(\"test.csv\")"
   ]
  },
  {
   "cell_type": "code",
   "execution_count": null,
   "id": "51ebef95",
   "metadata": {},
   "outputs": [],
   "source": [
    "df"
   ]
  },
  {
   "cell_type": "code",
   "execution_count": null,
   "id": "9e7095c9",
   "metadata": {},
   "outputs": [],
   "source": [
    "df.filter(pl.col(\"group\") == 1965)"
   ]
  },
  {
   "cell_type": "code",
   "execution_count": null,
   "id": "b70ef1c6",
   "metadata": {},
   "outputs": [],
   "source": [
    "df.select(pl.col(\"country\")).unique().count().item()"
   ]
  },
  {
   "cell_type": "code",
   "execution_count": null,
   "id": "5fff33b1",
   "metadata": {},
   "outputs": [],
   "source": [
    "df = pl.DataFrame(wb.get_countries())\n",
    "df"
   ]
  },
  {
   "cell_type": "code",
   "execution_count": null,
   "id": "fa799e70",
   "metadata": {},
   "outputs": [],
   "source": [
    "df = dc.wb_data(params=[\"GFDD.OI.01\"],year=1980)\n",
    "df"
   ]
  },
  {
   "cell_type": "code",
   "execution_count": null,
   "id": "e334b66e",
   "metadata": {},
   "outputs": [],
   "source": [
    "columns = [\n",
    "    'gdp_growth', 'spending', 'gini',\n",
    "    'expenses'\n",
    "]\n",
    "data = df.to_pandas()\n",
    "\n",
    "# Step 1: Sort the DataFrame\n",
    "data = data[data[\"country\"] != \"World\"]\n",
    "data = data[data[\"country\"] == \"United States\"]\n",
    "data = data.sort_values(by=['year', 'country']).reset_index(drop=True)\n",
    "\n",
    "# Step 2: Interpolate each column by zip group\n",
    "# data[columns] = data.groupby('country')[columns].transform(\n",
    "#     lambda group: group.interpolate(method='linear', limit_direction='both')\n",
    "# )\n",
    "data = data.dropna(subset=[\"gdp_growth\"]).reset_index(drop=True)\n",
    "data = data.dropna(subset=[\"expenses\"]).reset_index(drop=True)\n",
    "data"
   ]
  },
  {
   "cell_type": "code",
   "execution_count": null,
   "id": "7afd3e17",
   "metadata": {},
   "outputs": [],
   "source": [
    "def plot_knots(knots, ax):\n",
    "    for knot in knots:\n",
    "        ax.axvline(knot, color=\"0.1\", alpha=0.4)\n",
    "    return ax"
   ]
  },
  {
   "cell_type": "code",
   "execution_count": null,
   "id": "803e958f",
   "metadata": {},
   "outputs": [],
   "source": [
    "num_knots = 5\n",
    "knots = np.quantile(data[\"expenses\"], np.linspace(0, 1, num_knots))\n",
    "iknots = knots[1:-1]\n",
    "priors = {\n",
    "    \"Intercept\": bmb.Prior(\"Normal\", mu=100, sigma=10),\n",
    "    \"common\": bmb.Prior(\"Normal\", mu=0, sigma=10), \n",
    "    \"sigma\": bmb.Prior(\"Exponential\", lam=1)\n",
    "}\n",
    "model = bmb.Model(\"gdp_growth ~ year + bs(expenses, knots=iknots, intercept=True)\", data, dropna=True, priors=priors)"
   ]
  },
  {
   "cell_type": "code",
   "execution_count": null,
   "id": "bcd9203b",
   "metadata": {},
   "outputs": [],
   "source": [
    "def plot_spline_basis(basis, expenses, figsize=(10, 6)):\n",
    "    df = (\n",
    "        pd.DataFrame(basis)\n",
    "        .assign(expenses=expenses)\n",
    "        .melt(\"expenses\", var_name=\"basis_idx\", value_name=\"gdp_growth\")\n",
    "    )\n",
    "\n",
    "    _, ax = plt.subplots(figsize=figsize)\n",
    "\n",
    "    for idx in df.basis_idx.unique():\n",
    "        d = df[df.basis_idx == idx]\n",
    "        ax.plot(d[\"expenses\"], d[\"gdp_growth\"])\n",
    "    \n",
    "    return ax"
   ]
  },
  {
   "cell_type": "code",
   "execution_count": null,
   "id": "8848b08c",
   "metadata": {},
   "outputs": [],
   "source": [
    "B = model.components[\"mu\"].design.common[\"bs(expenses, knots=iknots, intercept=True)\"]\n",
    "ax = plot_spline_basis(B, data[\"expenses\"].values)\n",
    "plot_knots(knots, ax)"
   ]
  },
  {
   "cell_type": "code",
   "execution_count": null,
   "id": "5acbf83d",
   "metadata": {},
   "outputs": [],
   "source": [
    "# The seed is to make results reproducible\n",
    "idata = model.fit(idata_kwargs={\"log_likelihood\": True})"
   ]
  },
  {
   "cell_type": "code",
   "execution_count": null,
   "id": "2159d6a8",
   "metadata": {},
   "outputs": [],
   "source": [
    "az.plot_trace(idata);"
   ]
  },
  {
   "cell_type": "code",
   "execution_count": null,
   "id": "58965cae",
   "metadata": {},
   "outputs": [],
   "source": []
  },
  {
   "cell_type": "code",
   "execution_count": null,
   "id": "21028a1b",
   "metadata": {},
   "outputs": [],
   "source": [
    "posterior_stacked = az.extract(idata)\n",
    "wp = posterior_stacked[\"bs(expenses, knots=iknots, intercept=True)\"].mean(\"sample\").values\n",
    "\n",
    "ax = plot_spline_basis(B * wp.T, data[\"expenses\"].values)\n",
    "ax.plot(data.expenses.values, np.dot(B, wp.T), color=\"black\", lw=3)\n",
    "plot_knots(knots, ax);"
   ]
  }
 ],
 "metadata": {
  "kernelspec": {
   "display_name": ".venv",
   "language": "python",
   "name": "python3"
  },
  "language_info": {
   "codemirror_mode": {
    "name": "ipython",
    "version": 3
   },
   "file_extension": ".py",
   "mimetype": "text/x-python",
   "name": "python",
   "nbconvert_exporter": "python",
   "pygments_lexer": "ipython3",
   "version": "3.12.9"
  }
 },
 "nbformat": 4,
 "nbformat_minor": 5
}
