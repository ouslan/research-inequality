{
 "cells": [
  {
   "cell_type": "code",
   "execution_count": null,
   "id": "66330098",
   "metadata": {},
   "outputs": [],
   "source": [
    "import os\n",
    "os.chdir(\"..\")"
   ]
  },
  {
   "cell_type": "code",
   "execution_count": null,
   "id": "61ff69c5",
   "metadata": {},
   "outputs": [],
   "source": [
    "import world_bank_data as wb\n",
    "import pandas as pd\n",
    "import polars as pl\n",
    "import missingno as msno\n",
    "import numpy as np\n",
    "import pandas as pd\n",
    "from src.data.data_pull import DataClean\n",
    "import seaborn as sns\n",
    "import matplotlib.pyplot as plt\n",
    "\n",
    "dc = DataClean()"
   ]
  },
  {
   "cell_type": "markdown",
   "id": "fccc6dd1",
   "metadata": {},
   "source": [
    "# TODO\n",
    "- colapse by 5 average\n",
    "- keep the balance data\n",
    "- "
   ]
  },
  {
   "cell_type": "code",
   "execution_count": null,
   "id": "5a5ae36d",
   "metadata": {},
   "outputs": [],
   "source": [
    "df = dc.pull_wb()\n",
    "data = pl.read_csv(\"data/external/countries.csv\")\n",
    "df = df.join(data, on=\"country\", how=\"inner\", validate=\"m:1\")\n",
    "df = df.select(\n",
    "    pl.col(\n",
    "        'year',\n",
    "        'country',\n",
    "        'fertility_rate',\n",
    "        'gdp_per_capita',\n",
    "        'government_expenditure',\n",
    "        'trade',\n",
    "        'life_expectancy',\n",
    "        'gdp_per_capita_growth',\n",
    "        'inflation',\n",
    "        'population_growth',\n",
    "        'school_primary',\n",
    "        'gross_capital_formation',\n",
    "        'domestic_bank',\n",
    "        'advanced_economy')\n",
    ")\n",
    "df = df.filter(pl.col(\"year\") >= 2001)        \n",
    "df = df.to_pandas()\n",
    "\n",
    "required_columns = [\n",
    "        'fertility_rate',\n",
    "        'gdp_per_capita',\n",
    "        'government_expenditure',\n",
    "        'trade',\n",
    "        'life_expectancy',\n",
    "        'gdp_per_capita_growth',\n",
    "        'inflation',\n",
    "        'population_growth',\n",
    "        'gross_capital_formation',\n",
    "        'domestic_bank',\n",
    "        'advanced_economy']\n",
    "\n",
    "df['complete'] = df[required_columns].notna().all(axis=1)\n",
    "\n",
    "# Step 2: Create a pivot table with country as rows and year as columns\n",
    "pivot = df[df['complete']].pivot_table(index='country', columns='year', values='complete', aggfunc='first')\n",
    "\n",
    "# Convert boolean to integer (True -> 1, False or NaN -> 0)\n",
    "pivot = pivot.fillna(0).astype(int)\n",
    "\n",
    "# Step 3: Brute-force search for the longest consecutive range of years\n",
    "years = sorted(pivot.columns)\n",
    "best_combo = {'start': None, 'end': None, 'countries': [], 'n_years': 0}\n",
    "\n",
    "for i in range(len(years)):\n",
    "    for j in range(i + 1, len(years) + 1):\n",
    "        year_range = years[i:j]\n",
    "        # Select only columns (years) in the current range\n",
    "        temp = pivot[year_range]\n",
    "        # Find countries that have full data in all those years\n",
    "        valid_countries = temp[temp.sum(axis=1) == len(year_range)]\n",
    "        if len(valid_countries) > 0:\n",
    "            if len(year_range) > best_combo['n_years'] or (\n",
    "                len(year_range) == best_combo['n_years'] and len(valid_countries) > len(best_combo['countries'])\n",
    "            ):\n",
    "                best_combo = {\n",
    "                    'start': year_range[0],\n",
    "                    'end': year_range[-1],\n",
    "                    'countries': valid_countries.index.tolist(),\n",
    "                    'n_years': len(year_range)\n",
    "                }\n",
    "\n",
    "print(f\"Best period: {best_combo['start']} to {best_combo['end']} ({best_combo['n_years']} years)\")\n",
    "print(f\"Number of countries: {len(best_combo['countries'])}\")\n",
    "print(\"Countries:\", best_combo['countries'])"
   ]
  },
  {
   "cell_type": "code",
   "execution_count": null,
   "id": "c827158c",
   "metadata": {},
   "outputs": [],
   "source": [
    "best_combo['countries']"
   ]
  },
  {
   "cell_type": "code",
   "execution_count": null,
   "id": "55c99ab6",
   "metadata": {},
   "outputs": [],
   "source": [
    "df[(df[\"country\"].isin(best_combo['countries'])) & (df[\"year\"] <= 2023)].to_csv(\"data.csv\")\n",
    "\n"
   ]
  },
  {
   "cell_type": "code",
   "execution_count": null,
   "id": "c358eea8",
   "metadata": {},
   "outputs": [],
   "source": [
    "df = df.filter(pl.col(\"year\") >= 1970)\n",
    "df.write_csv(\"data.csv\")"
   ]
  },
  {
   "cell_type": "code",
   "execution_count": null,
   "id": "5e601f2f",
   "metadata": {},
   "outputs": [],
   "source": [
    "df.columns"
   ]
  },
  {
   "cell_type": "code",
   "execution_count": null,
   "id": "ba82157c",
   "metadata": {},
   "outputs": [],
   "source": [
    "# df = df.filter(pl.col(\"year\") >= 2002)\n",
    "# for cols in  df.columns:\n",
    "#     df = df.filter(pl.col(f\"{cols}\").is_not_null())\n",
    "\n",
    "# units = df.select(\"country\").unique()\n",
    "\n",
    "# min_year = df[\"year\"].min()\n",
    "# max_year = df[\"year\"].max()\n",
    "# years = pl.DataFrame({\"year\": list(range(min_year, max_year + 1))})\n",
    "\n",
    "# full_index = units.join(years, how=\"cross\")\n",
    "\n",
    "# full_df = full_index.join(df, on=[\"country\", \"year\"], how=\"left\")\n",
    "\n",
    "# msno.matrix(full_df.to_pandas().sort_values([\"country\",\"year\"]))"
   ]
  },
  {
   "cell_type": "code",
   "execution_count": null,
   "id": "f2a7615a",
   "metadata": {},
   "outputs": [],
   "source": [
    "msno.matrix(df.to_pandas())"
   ]
  },
  {
   "cell_type": "code",
   "execution_count": null,
   "id": "29b4eae6",
   "metadata": {},
   "outputs": [],
   "source": [
    "df = df.filter(pl.col(\"year\") >= 1970)\n",
    "pivoted = df.pivot(\n",
    "    values=\"school_primary\",\n",
    "    index=\"year\",\n",
    "    on=\"country\"\n",
    ")\n",
    "msno.bar(pivoted.to_pandas(), sort='descending')"
   ]
  },
  {
   "cell_type": "code",
   "execution_count": null,
   "id": "72f9dddb",
   "metadata": {},
   "outputs": [],
   "source": [
    "pivoted = df.pivot(\n",
    "    values=\"school_primary\",\n",
    "    index=\"country\",\n",
    "    on=\"year\"\n",
    ")\n",
    "# pivoted.set_index(['year'], inplace=True)\n",
    "for year2 in range(2005,2022):\n",
    "    res = pivoted.filter(pl.col(f\"{year2}\").is_not_null()).select(pl.col(\"country\")).to_series().unique().to_list()\n",
    "    for year in range(year2 +1,2022):\n",
    "        tmp = pivoted.filter(pl.col(f\"{year}\").is_not_null()).select(pl.col(\"country\")).to_series().unique().to_list()\n",
    "        res = list(set(res) & set(tmp))\n",
    "    print(f\"Amount of countries {len(res)}\")\n",
    "    print(f\"start year {year2}\")   "
   ]
  },
  {
   "cell_type": "code",
   "execution_count": null,
   "id": "d27d97da",
   "metadata": {},
   "outputs": [],
   "source": [
    "pivoted"
   ]
  },
  {
   "cell_type": "code",
   "execution_count": null,
   "id": "05d9277f",
   "metadata": {},
   "outputs": [],
   "source": [
    "countries = pivoted.filter(pl.col(\"2005\").is_not_null()).select(pl.col(\"country\")).to_series().unique().to_list()\n",
    "len(countries)"
   ]
  },
  {
   "cell_type": "code",
   "execution_count": null,
   "id": "08bb765e",
   "metadata": {},
   "outputs": [],
   "source": [
    "# countries2 = pivoted.filter(pl.col(\"2005\").is_not_null()).select(pl.col(\"country\")).to_series().unique().to_list()\n",
    "# countries2 = pivoted.filter(pl.col(\"2004\").is_not_null()).select(pl.col(\"country\")).to_series().unique().to_list()\n",
    "# res = list(set(countries2) & set(countries2))\n",
    "\n",
    "for year2 in range(2005,2022):\n",
    "    res = pivoted.filter(pl.col(f\"{year2}\").is_not_null()).select(pl.col(\"country\")).to_series().unique().to_list()\n",
    "    for year in range(year2 +1,2022):\n",
    "        tmp = pivoted.filter(pl.col(f\"{year}\").is_not_null()).select(pl.col(\"country\")).to_series().unique().to_list()\n",
    "        res = list(set(res) & set(tmp))\n",
    "    print(f\"Amount of countries {len(res)}\")\n",
    "    print(f\"start year {year2}\")   "
   ]
  },
  {
   "cell_type": "code",
   "execution_count": null,
   "id": "a6e0befb",
   "metadata": {},
   "outputs": [],
   "source": []
  },
  {
   "cell_type": "code",
   "execution_count": null,
   "id": "d3ff3d80",
   "metadata": {},
   "outputs": [],
   "source": [
    "df1 = df\n",
    "res = pivoted.filter(pl.col(1970).is_not_null()).select(pl.col(\"country\")).to_series().unique().to_list()\n",
    "for year in range(1970,2024):\n",
    "    tmp = pivoted.filter(pl.col(f\"{year}\").is_not_null()).select(pl.col(\"country\")).to_series().unique().to_list()\n",
    "    res = list(set(res) & set(tmp))\n",
    "# tmp = pivoted.filter(pl.col(f\"\").is_not_null()).select(pl.col(\"country\")).to_series().unique().to_list()\n",
    "df1 = df1.filter(pl.col(\"country\").is_in(res))\n",
    "# df1 = df1.filter((pl.col(\"year\") >= 2002))\n",
    "df1 = df1.to_pandas().sort_values([\"year\",\"country\"])\n",
    "msno.matrix(df1)"
   ]
  },
  {
   "cell_type": "code",
   "execution_count": null,
   "id": "9ef04911",
   "metadata": {},
   "outputs": [],
   "source": [
    "len(df1.select(pl.col(\"country\")).to_series().unique().to_list())"
   ]
  },
  {
   "cell_type": "code",
   "execution_count": null,
   "id": "23d4a843",
   "metadata": {},
   "outputs": [],
   "source": [
    "df.write_csv(\"data/processed/dataset.csv\")"
   ]
  }
 ],
 "metadata": {
  "kernelspec": {
   "display_name": ".venv",
   "language": "python",
   "name": "python3"
  },
  "language_info": {
   "codemirror_mode": {
    "name": "ipython",
    "version": 3
   },
   "file_extension": ".py",
   "mimetype": "text/x-python",
   "name": "python",
   "nbconvert_exporter": "python",
   "pygments_lexer": "ipython3",
   "version": "3.12.10"
  }
 },
 "nbformat": 4,
 "nbformat_minor": 5
}
