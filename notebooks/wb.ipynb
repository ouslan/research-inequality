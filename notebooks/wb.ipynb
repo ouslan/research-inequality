{
 "cells": [
  {
   "cell_type": "code",
   "execution_count": 1,
   "id": "66330098",
   "metadata": {},
   "outputs": [],
   "source": [
    "import os\n",
    "os.chdir(\"..\")"
   ]
  },
  {
   "cell_type": "code",
   "execution_count": 2,
   "id": "61ff69c5",
   "metadata": {},
   "outputs": [],
   "source": [
    "import world_bank_data as wb\n",
    "import pandas as pd\n",
    "import polars as pl\n",
    "import numpy as np\n",
    "import pandas as pd\n",
    "from src.data.data_pull import DataClean\n",
    "\n",
    "dc = DataClean()"
   ]
  },
  {
   "cell_type": "markdown",
   "id": "fccc6dd1",
   "metadata": {},
   "source": [
    "# TODO\n",
    "- colapse by 5 average\n",
    "- keep the balance data\n",
    "- "
   ]
  },
  {
   "cell_type": "code",
   "execution_count": 3,
   "id": "fce269bb",
   "metadata": {},
   "outputs": [
    {
     "data": {
      "text/html": [
       "<div><style>\n",
       ".dataframe > thead > tr,\n",
       ".dataframe > tbody > tr {\n",
       "  text-align: right;\n",
       "  white-space: pre-wrap;\n",
       "}\n",
       "</style>\n",
       "<small>shape: (17_160, 7)</small><table border=\"1\" class=\"dataframe\"><thead><tr><th>year</th><th>country</th><th>gdp</th><th>gdp_growth</th><th>spending</th><th>gini</th><th>expenses</th></tr><tr><td>i32</td><td>str</td><td>f32</td><td>f32</td><td>f32</td><td>f32</td><td>f32</td></tr></thead><tbody><tr><td>1960</td><td>&quot;Africa Eastern and Southern&quot;</td><td>2.4211e10</td><td>null</td><td>5.966216</td><td>null</td><td>null</td></tr><tr><td>1960</td><td>&quot;Africa Western and Central&quot;</td><td>1.1905e10</td><td>null</td><td>null</td><td>null</td><td>null</td></tr><tr><td>1960</td><td>&quot;Arab World&quot;</td><td>null</td><td>null</td><td>null</td><td>null</td><td>null</td></tr><tr><td>1960</td><td>&quot;Caribbean small states&quot;</td><td>6.41146368e8</td><td>null</td><td>null</td><td>null</td><td>null</td></tr><tr><td>1960</td><td>&quot;Central Europe and the Baltics&quot;</td><td>null</td><td>null</td><td>null</td><td>null</td><td>null</td></tr><tr><td>&hellip;</td><td>&hellip;</td><td>&hellip;</td><td>&hellip;</td><td>&hellip;</td><td>&hellip;</td><td>&hellip;</td></tr><tr><td>2024</td><td>&quot;Virgin Islands (U.S.)&quot;</td><td>null</td><td>null</td><td>null</td><td>null</td><td>null</td></tr><tr><td>2024</td><td>&quot;West Bank and Gaza&quot;</td><td>null</td><td>null</td><td>null</td><td>null</td><td>null</td></tr><tr><td>2024</td><td>&quot;Yemen, Rep.&quot;</td><td>null</td><td>null</td><td>null</td><td>null</td><td>null</td></tr><tr><td>2024</td><td>&quot;Zambia&quot;</td><td>null</td><td>null</td><td>null</td><td>null</td><td>null</td></tr><tr><td>2024</td><td>&quot;Zimbabwe&quot;</td><td>null</td><td>null</td><td>null</td><td>null</td><td>null</td></tr></tbody></table></div>"
      ],
      "text/plain": [
       "shape: (17_160, 7)\n",
       "┌──────┬────────────────────────────────┬──────────────┬────────────┬──────────┬──────┬──────────┐\n",
       "│ year ┆ country                        ┆ gdp          ┆ gdp_growth ┆ spending ┆ gini ┆ expenses │\n",
       "│ ---  ┆ ---                            ┆ ---          ┆ ---        ┆ ---      ┆ ---  ┆ ---      │\n",
       "│ i32  ┆ str                            ┆ f32          ┆ f32        ┆ f32      ┆ f32  ┆ f32      │\n",
       "╞══════╪════════════════════════════════╪══════════════╪════════════╪══════════╪══════╪══════════╡\n",
       "│ 1960 ┆ Africa Eastern and Southern    ┆ 2.4211e10    ┆ null       ┆ 5.966216 ┆ null ┆ null     │\n",
       "│ 1960 ┆ Africa Western and Central     ┆ 1.1905e10    ┆ null       ┆ null     ┆ null ┆ null     │\n",
       "│ 1960 ┆ Arab World                     ┆ null         ┆ null       ┆ null     ┆ null ┆ null     │\n",
       "│ 1960 ┆ Caribbean small states         ┆ 6.41146368e8 ┆ null       ┆ null     ┆ null ┆ null     │\n",
       "│ 1960 ┆ Central Europe and the Baltics ┆ null         ┆ null       ┆ null     ┆ null ┆ null     │\n",
       "│ …    ┆ …                              ┆ …            ┆ …          ┆ …        ┆ …    ┆ …        │\n",
       "│ 2024 ┆ Virgin Islands (U.S.)          ┆ null         ┆ null       ┆ null     ┆ null ┆ null     │\n",
       "│ 2024 ┆ West Bank and Gaza             ┆ null         ┆ null       ┆ null     ┆ null ┆ null     │\n",
       "│ 2024 ┆ Yemen, Rep.                    ┆ null         ┆ null       ┆ null     ┆ null ┆ null     │\n",
       "│ 2024 ┆ Zambia                         ┆ null         ┆ null       ┆ null     ┆ null ┆ null     │\n",
       "│ 2024 ┆ Zimbabwe                       ┆ null         ┆ null       ┆ null     ┆ null ┆ null     │\n",
       "└──────┴────────────────────────────────┴──────────────┴────────────┴──────────┴──────┴──────────┘"
      ]
     },
     "execution_count": 3,
     "metadata": {},
     "output_type": "execute_result"
    }
   ],
   "source": [
    "dc.pull_wb()"
   ]
  },
  {
   "cell_type": "code",
   "execution_count": 4,
   "id": "5fff33b1",
   "metadata": {},
   "outputs": [
    {
     "data": {
      "text/html": [
       "<div><style>\n",
       ".dataframe > thead > tr,\n",
       ".dataframe > tbody > tr {\n",
       "  text-align: right;\n",
       "  white-space: pre-wrap;\n",
       "}\n",
       "</style>\n",
       "<small>shape: (296, 9)</small><table border=\"1\" class=\"dataframe\"><thead><tr><th>iso2Code</th><th>name</th><th>region</th><th>adminregion</th><th>incomeLevel</th><th>lendingType</th><th>capitalCity</th><th>longitude</th><th>latitude</th></tr><tr><td>str</td><td>str</td><td>str</td><td>str</td><td>str</td><td>str</td><td>str</td><td>f64</td><td>f64</td></tr></thead><tbody><tr><td>&quot;AW&quot;</td><td>&quot;Aruba&quot;</td><td>&quot;Latin America &amp; Caribbean &quot;</td><td>&quot;&quot;</td><td>&quot;High income&quot;</td><td>&quot;Not classified&quot;</td><td>&quot;Oranjestad&quot;</td><td>-70.0167</td><td>12.5167</td></tr><tr><td>&quot;ZH&quot;</td><td>&quot;Africa Eastern and Southern&quot;</td><td>&quot;Aggregates&quot;</td><td>&quot;&quot;</td><td>&quot;Aggregates&quot;</td><td>&quot;Aggregates&quot;</td><td>&quot;&quot;</td><td>null</td><td>null</td></tr><tr><td>&quot;AF&quot;</td><td>&quot;Afghanistan&quot;</td><td>&quot;South Asia&quot;</td><td>&quot;South Asia&quot;</td><td>&quot;Low income&quot;</td><td>&quot;IDA&quot;</td><td>&quot;Kabul&quot;</td><td>69.1761</td><td>34.5228</td></tr><tr><td>&quot;A9&quot;</td><td>&quot;Africa&quot;</td><td>&quot;Aggregates&quot;</td><td>&quot;&quot;</td><td>&quot;Aggregates&quot;</td><td>&quot;Aggregates&quot;</td><td>&quot;&quot;</td><td>null</td><td>null</td></tr><tr><td>&quot;ZI&quot;</td><td>&quot;Africa Western and Central&quot;</td><td>&quot;Aggregates&quot;</td><td>&quot;&quot;</td><td>&quot;Aggregates&quot;</td><td>&quot;Aggregates&quot;</td><td>&quot;&quot;</td><td>null</td><td>null</td></tr><tr><td>&hellip;</td><td>&hellip;</td><td>&hellip;</td><td>&hellip;</td><td>&hellip;</td><td>&hellip;</td><td>&hellip;</td><td>&hellip;</td><td>&hellip;</td></tr><tr><td>&quot;A5&quot;</td><td>&quot;Sub-Saharan Africa excluding S…</td><td>&quot;Aggregates&quot;</td><td>&quot;&quot;</td><td>&quot;Aggregates&quot;</td><td>&quot;Aggregates&quot;</td><td>&quot;&quot;</td><td>null</td><td>null</td></tr><tr><td>&quot;YE&quot;</td><td>&quot;Yemen, Rep.&quot;</td><td>&quot;Middle East &amp; North Africa&quot;</td><td>&quot;Middle East &amp; North Africa (ex…</td><td>&quot;Low income&quot;</td><td>&quot;IDA&quot;</td><td>&quot;Sana&#x27;a&quot;</td><td>44.2075</td><td>15.352</td></tr><tr><td>&quot;ZA&quot;</td><td>&quot;South Africa&quot;</td><td>&quot;Sub-Saharan Africa &quot;</td><td>&quot;Sub-Saharan Africa (excluding …</td><td>&quot;Upper middle income&quot;</td><td>&quot;IBRD&quot;</td><td>&quot;Pretoria&quot;</td><td>28.1871</td><td>-25.746</td></tr><tr><td>&quot;ZM&quot;</td><td>&quot;Zambia&quot;</td><td>&quot;Sub-Saharan Africa &quot;</td><td>&quot;Sub-Saharan Africa (excluding …</td><td>&quot;Lower middle income&quot;</td><td>&quot;IDA&quot;</td><td>&quot;Lusaka&quot;</td><td>28.2937</td><td>-15.3982</td></tr><tr><td>&quot;ZW&quot;</td><td>&quot;Zimbabwe&quot;</td><td>&quot;Sub-Saharan Africa &quot;</td><td>&quot;Sub-Saharan Africa (excluding …</td><td>&quot;Lower middle income&quot;</td><td>&quot;Blend&quot;</td><td>&quot;Harare&quot;</td><td>31.0672</td><td>-17.8312</td></tr></tbody></table></div>"
      ],
      "text/plain": [
       "shape: (296, 9)\n",
       "┌──────────┬────────────┬───────────┬───────────┬───┬───────────┬───────────┬───────────┬──────────┐\n",
       "│ iso2Code ┆ name       ┆ region    ┆ adminregi ┆ … ┆ lendingTy ┆ capitalCi ┆ longitude ┆ latitude │\n",
       "│ ---      ┆ ---        ┆ ---       ┆ on        ┆   ┆ pe        ┆ ty        ┆ ---       ┆ ---      │\n",
       "│ str      ┆ str        ┆ str       ┆ ---       ┆   ┆ ---       ┆ ---       ┆ f64       ┆ f64      │\n",
       "│          ┆            ┆           ┆ str       ┆   ┆ str       ┆ str       ┆           ┆          │\n",
       "╞══════════╪════════════╪═══════════╪═══════════╪═══╪═══════════╪═══════════╪═══════════╪══════════╡\n",
       "│ AW       ┆ Aruba      ┆ Latin     ┆           ┆ … ┆ Not class ┆ Oranjesta ┆ -70.0167  ┆ 12.5167  │\n",
       "│          ┆            ┆ America & ┆           ┆   ┆ ified     ┆ d         ┆           ┆          │\n",
       "│          ┆            ┆ Caribbean ┆           ┆   ┆           ┆           ┆           ┆          │\n",
       "│ ZH       ┆ Africa     ┆ Aggregate ┆           ┆ … ┆ Aggregate ┆           ┆ null      ┆ null     │\n",
       "│          ┆ Eastern    ┆ s         ┆           ┆   ┆ s         ┆           ┆           ┆          │\n",
       "│          ┆ and        ┆           ┆           ┆   ┆           ┆           ┆           ┆          │\n",
       "│          ┆ Southern   ┆           ┆           ┆   ┆           ┆           ┆           ┆          │\n",
       "│ AF       ┆ Afghanista ┆ South     ┆ South     ┆ … ┆ IDA       ┆ Kabul     ┆ 69.1761   ┆ 34.5228  │\n",
       "│          ┆ n          ┆ Asia      ┆ Asia      ┆   ┆           ┆           ┆           ┆          │\n",
       "│ A9       ┆ Africa     ┆ Aggregate ┆           ┆ … ┆ Aggregate ┆           ┆ null      ┆ null     │\n",
       "│          ┆            ┆ s         ┆           ┆   ┆ s         ┆           ┆           ┆          │\n",
       "│ ZI       ┆ Africa     ┆ Aggregate ┆           ┆ … ┆ Aggregate ┆           ┆ null      ┆ null     │\n",
       "│          ┆ Western    ┆ s         ┆           ┆   ┆ s         ┆           ┆           ┆          │\n",
       "│          ┆ and        ┆           ┆           ┆   ┆           ┆           ┆           ┆          │\n",
       "│          ┆ Central    ┆           ┆           ┆   ┆           ┆           ┆           ┆          │\n",
       "│ …        ┆ …          ┆ …         ┆ …         ┆ … ┆ …         ┆ …         ┆ …         ┆ …        │\n",
       "│ A5       ┆ Sub-Sahara ┆ Aggregate ┆           ┆ … ┆ Aggregate ┆           ┆ null      ┆ null     │\n",
       "│          ┆ n Africa   ┆ s         ┆           ┆   ┆ s         ┆           ┆           ┆          │\n",
       "│          ┆ excluding  ┆           ┆           ┆   ┆           ┆           ┆           ┆          │\n",
       "│          ┆ S…         ┆           ┆           ┆   ┆           ┆           ┆           ┆          │\n",
       "│ YE       ┆ Yemen,     ┆ Middle    ┆ Middle    ┆ … ┆ IDA       ┆ Sana'a    ┆ 44.2075   ┆ 15.352   │\n",
       "│          ┆ Rep.       ┆ East &    ┆ East &    ┆   ┆           ┆           ┆           ┆          │\n",
       "│          ┆            ┆ North     ┆ North     ┆   ┆           ┆           ┆           ┆          │\n",
       "│          ┆            ┆ Africa    ┆ Africa    ┆   ┆           ┆           ┆           ┆          │\n",
       "│          ┆            ┆           ┆ (ex…      ┆   ┆           ┆           ┆           ┆          │\n",
       "│ ZA       ┆ South      ┆ Sub-Sahar ┆ Sub-Sahar ┆ … ┆ IBRD      ┆ Pretoria  ┆ 28.1871   ┆ -25.746  │\n",
       "│          ┆ Africa     ┆ an Africa ┆ an Africa ┆   ┆           ┆           ┆           ┆          │\n",
       "│          ┆            ┆           ┆ (excludin ┆   ┆           ┆           ┆           ┆          │\n",
       "│          ┆            ┆           ┆ g …       ┆   ┆           ┆           ┆           ┆          │\n",
       "│ ZM       ┆ Zambia     ┆ Sub-Sahar ┆ Sub-Sahar ┆ … ┆ IDA       ┆ Lusaka    ┆ 28.2937   ┆ -15.3982 │\n",
       "│          ┆            ┆ an Africa ┆ an Africa ┆   ┆           ┆           ┆           ┆          │\n",
       "│          ┆            ┆           ┆ (excludin ┆   ┆           ┆           ┆           ┆          │\n",
       "│          ┆            ┆           ┆ g …       ┆   ┆           ┆           ┆           ┆          │\n",
       "│ ZW       ┆ Zimbabwe   ┆ Sub-Sahar ┆ Sub-Sahar ┆ … ┆ Blend     ┆ Harare    ┆ 31.0672   ┆ -17.8312 │\n",
       "│          ┆            ┆ an Africa ┆ an Africa ┆   ┆           ┆           ┆           ┆          │\n",
       "│          ┆            ┆           ┆ (excludin ┆   ┆           ┆           ┆           ┆          │\n",
       "│          ┆            ┆           ┆ g …       ┆   ┆           ┆           ┆           ┆          │\n",
       "└──────────┴────────────┴───────────┴───────────┴───┴───────────┴───────────┴───────────┴──────────┘"
      ]
     },
     "execution_count": 4,
     "metadata": {},
     "output_type": "execute_result"
    }
   ],
   "source": [
    "df = pl.DataFrame(wb.get_countries())\n",
    "df"
   ]
  },
  {
   "cell_type": "code",
   "execution_count": 5,
   "id": "fa799e70",
   "metadata": {},
   "outputs": [
    {
     "data": {
      "text/html": [
       "<div><style>\n",
       ".dataframe > thead > tr,\n",
       ".dataframe > tbody > tr {\n",
       "  text-align: right;\n",
       "  white-space: pre-wrap;\n",
       "}\n",
       "</style>\n",
       "<small>shape: (211, 3)</small><table border=\"1\" class=\"dataframe\"><thead><tr><th>country</th><th>GFDD.OI.01</th><th>year</th></tr><tr><td>str</td><td>str</td><td>i32</td></tr></thead><tbody><tr><td>&quot;Aruba&quot;</td><td>null</td><td>1980</td></tr><tr><td>&quot;Afghanistan&quot;</td><td>null</td><td>1980</td></tr><tr><td>&quot;Angola&quot;</td><td>null</td><td>1980</td></tr><tr><td>&quot;Albania&quot;</td><td>null</td><td>1980</td></tr><tr><td>&quot;Andorra&quot;</td><td>null</td><td>1980</td></tr><tr><td>&hellip;</td><td>&hellip;</td><td>&hellip;</td></tr><tr><td>&quot;Kosovo&quot;</td><td>null</td><td>1980</td></tr><tr><td>&quot;Yemen, Rep.&quot;</td><td>null</td><td>1980</td></tr><tr><td>&quot;South Africa&quot;</td><td>null</td><td>1980</td></tr><tr><td>&quot;Zambia&quot;</td><td>null</td><td>1980</td></tr><tr><td>&quot;Zimbabwe&quot;</td><td>null</td><td>1980</td></tr></tbody></table></div>"
      ],
      "text/plain": [
       "shape: (211, 3)\n",
       "┌──────────────┬────────────┬──────┐\n",
       "│ country      ┆ GFDD.OI.01 ┆ year │\n",
       "│ ---          ┆ ---        ┆ ---  │\n",
       "│ str          ┆ str        ┆ i32  │\n",
       "╞══════════════╪════════════╪══════╡\n",
       "│ Aruba        ┆ null       ┆ 1980 │\n",
       "│ Afghanistan  ┆ null       ┆ 1980 │\n",
       "│ Angola       ┆ null       ┆ 1980 │\n",
       "│ Albania      ┆ null       ┆ 1980 │\n",
       "│ Andorra      ┆ null       ┆ 1980 │\n",
       "│ …            ┆ …          ┆ …    │\n",
       "│ Kosovo       ┆ null       ┆ 1980 │\n",
       "│ Yemen, Rep.  ┆ null       ┆ 1980 │\n",
       "│ South Africa ┆ null       ┆ 1980 │\n",
       "│ Zambia       ┆ null       ┆ 1980 │\n",
       "│ Zimbabwe     ┆ null       ┆ 1980 │\n",
       "└──────────────┴────────────┴──────┘"
      ]
     },
     "execution_count": 5,
     "metadata": {},
     "output_type": "execute_result"
    }
   ],
   "source": [
    "df = dc.wb_data(params=[\"GFDD.OI.01\"],year=1980)\n",
    "df"
   ]
  },
  {
   "cell_type": "code",
   "execution_count": null,
   "id": "51b0dbbe",
   "metadata": {},
   "outputs": [],
   "source": []
  },
  {
   "cell_type": "code",
   "execution_count": 6,
   "id": "e334b66e",
   "metadata": {},
   "outputs": [
    {
     "ename": "KeyError",
     "evalue": "['gdp_growth']",
     "output_type": "error",
     "traceback": [
      "\u001b[31m---------------------------------------------------------------------------\u001b[39m",
      "\u001b[31mKeyError\u001b[39m                                  Traceback (most recent call last)",
      "\u001b[32m/var/folders/sp/2bcj_bw1673dq59_0p8c5bgr0000gn/T/ipykernel_70995/3912718804.py\u001b[39m in \u001b[36m?\u001b[39m\u001b[34m()\u001b[39m\n\u001b[32m     12\u001b[39m \u001b[38;5;66;03m# Step 2: Interpolate each column by zip group\u001b[39;00m\n\u001b[32m     13\u001b[39m \u001b[38;5;66;03m# data[columns] = data.groupby('country')[columns].transform(\u001b[39;00m\n\u001b[32m     14\u001b[39m \u001b[38;5;66;03m#     lambda group: group.interpolate(method='linear', limit_direction='both')\u001b[39;00m\n\u001b[32m     15\u001b[39m \u001b[38;5;66;03m# )\u001b[39;00m\n\u001b[32m---> \u001b[39m\u001b[32m16\u001b[39m data = data.dropna(subset=[\u001b[33m\"gdp_growth\"\u001b[39m]).reset_index(drop=\u001b[38;5;28;01mTrue\u001b[39;00m)\n\u001b[32m     17\u001b[39m data = data.dropna(subset=[\u001b[33m\"expenses\"\u001b[39m]).reset_index(drop=\u001b[38;5;28;01mTrue\u001b[39;00m)\n\u001b[32m     18\u001b[39m data\n",
      "\u001b[32m~/Desktop/Github/research-inequality/.venv/lib/python3.12/site-packages/pandas/core/frame.py\u001b[39m in \u001b[36m?\u001b[39m\u001b[34m(self, axis, how, thresh, subset, inplace, ignore_index)\u001b[39m\n\u001b[32m   6666\u001b[39m             ax = self._get_axis(agg_axis)\n\u001b[32m   6667\u001b[39m             indices = ax.get_indexer_for(subset)\n\u001b[32m   6668\u001b[39m             check = indices == -\u001b[32m1\u001b[39m\n\u001b[32m   6669\u001b[39m             \u001b[38;5;28;01mif\u001b[39;00m check.any():\n\u001b[32m-> \u001b[39m\u001b[32m6670\u001b[39m                 \u001b[38;5;28;01mraise\u001b[39;00m KeyError(np.array(subset)[check].tolist())\n\u001b[32m   6671\u001b[39m             agg_obj = self.take(indices, axis=agg_axis)\n\u001b[32m   6672\u001b[39m \n\u001b[32m   6673\u001b[39m         \u001b[38;5;28;01mif\u001b[39;00m thresh \u001b[38;5;28;01mis\u001b[39;00m \u001b[38;5;28;01mnot\u001b[39;00m lib.no_default:\n",
      "\u001b[31mKeyError\u001b[39m: ['gdp_growth']"
     ]
    }
   ],
   "source": [
    "columns = [\n",
    "    'gdp_growth', 'spending', 'gini',\n",
    "    'expenses'\n",
    "]\n",
    "data = df.to_pandas()\n",
    "\n",
    "# Step 1: Sort the DataFrame\n",
    "data = data[data[\"country\"] != \"World\"]\n",
    "data = data[data[\"country\"] == \"United States\"]\n",
    "data = data.sort_values(by=['year', 'country']).reset_index(drop=True)\n",
    "\n",
    "# Step 2: Interpolate each column by zip group\n",
    "# data[columns] = data.groupby('country')[columns].transform(\n",
    "#     lambda group: group.interpolate(method='linear', limit_direction='both')\n",
    "# )\n",
    "data = data.dropna(subset=[\"gdp_growth\"]).reset_index(drop=True)\n",
    "data = data.dropna(subset=[\"expenses\"]).reset_index(drop=True)\n",
    "data"
   ]
  },
  {
   "cell_type": "code",
   "execution_count": null,
   "id": "7afd3e17",
   "metadata": {},
   "outputs": [],
   "source": [
    "def plot_knots(knots, ax):\n",
    "    for knot in knots:\n",
    "        ax.axvline(knot, color=\"0.1\", alpha=0.4)\n",
    "    return ax"
   ]
  },
  {
   "cell_type": "code",
   "execution_count": null,
   "id": "803e958f",
   "metadata": {},
   "outputs": [],
   "source": [
    "num_knots = 5\n",
    "knots = np.quantile(data[\"expenses\"], np.linspace(0, 1, num_knots))\n",
    "iknots = knots[1:-1]\n",
    "priors = {\n",
    "    \"Intercept\": bmb.Prior(\"Normal\", mu=100, sigma=10),\n",
    "    \"common\": bmb.Prior(\"Normal\", mu=0, sigma=10), \n",
    "    \"sigma\": bmb.Prior(\"Exponential\", lam=1)\n",
    "}\n",
    "model = bmb.Model(\"gdp_growth ~ year + bs(expenses, knots=iknots, intercept=True)\", data, dropna=True, priors=priors)"
   ]
  },
  {
   "cell_type": "code",
   "execution_count": null,
   "id": "bcd9203b",
   "metadata": {},
   "outputs": [],
   "source": [
    "def plot_spline_basis(basis, expenses, figsize=(10, 6)):\n",
    "    df = (\n",
    "        pd.DataFrame(basis)\n",
    "        .assign(expenses=expenses)\n",
    "        .melt(\"expenses\", var_name=\"basis_idx\", value_name=\"gdp_growth\")\n",
    "    )\n",
    "\n",
    "    _, ax = plt.subplots(figsize=figsize)\n",
    "\n",
    "    for idx in df.basis_idx.unique():\n",
    "        d = df[df.basis_idx == idx]\n",
    "        ax.plot(d[\"expenses\"], d[\"gdp_growth\"])\n",
    "    \n",
    "    return ax"
   ]
  },
  {
   "cell_type": "code",
   "execution_count": null,
   "id": "8848b08c",
   "metadata": {},
   "outputs": [],
   "source": [
    "B = model.components[\"mu\"].design.common[\"bs(expenses, knots=iknots, intercept=True)\"]\n",
    "ax = plot_spline_basis(B, data[\"expenses\"].values)\n",
    "plot_knots(knots, ax);"
   ]
  },
  {
   "cell_type": "code",
   "execution_count": null,
   "id": "5acbf83d",
   "metadata": {},
   "outputs": [],
   "source": [
    "# The seed is to make results reproducible\n",
    "idata = model.fit(idata_kwargs={\"log_likelihood\": True})"
   ]
  },
  {
   "cell_type": "code",
   "execution_count": null,
   "id": "2159d6a8",
   "metadata": {},
   "outputs": [],
   "source": [
    "az.plot_trace(idata);"
   ]
  },
  {
   "cell_type": "code",
   "execution_count": null,
   "id": "58965cae",
   "metadata": {},
   "outputs": [],
   "source": []
  },
  {
   "cell_type": "code",
   "execution_count": null,
   "id": "21028a1b",
   "metadata": {},
   "outputs": [],
   "source": [
    "posterior_stacked = az.extract(idata)\n",
    "wp = posterior_stacked[\"bs(expenses, knots=iknots, intercept=True)\"].mean(\"sample\").values\n",
    "\n",
    "ax = plot_spline_basis(B * wp.T, data[\"expenses\"].values)\n",
    "ax.plot(data.expenses.values, np.dot(B, wp.T), color=\"black\", lw=3)\n",
    "plot_knots(knots, ax);"
   ]
  }
 ],
 "metadata": {
  "kernelspec": {
   "display_name": ".venv",
   "language": "python",
   "name": "python3"
  },
  "language_info": {
   "codemirror_mode": {
    "name": "ipython",
    "version": 3
   },
   "file_extension": ".py",
   "mimetype": "text/x-python",
   "name": "python",
   "nbconvert_exporter": "python",
   "pygments_lexer": "ipython3",
   "version": "3.12.10"
  }
 },
 "nbformat": 4,
 "nbformat_minor": 5
}
