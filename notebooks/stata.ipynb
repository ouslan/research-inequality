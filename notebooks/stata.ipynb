{
 "cells": [
  {
   "cell_type": "code",
   "execution_count": null,
   "id": "a8da6981",
   "metadata": {},
   "outputs": [],
   "source": [
    "import stata_setup\n",
    "from dotenv import load_dotenv\n",
    "import os\n",
    "\n",
    "\n",
    "load_dotenv()\n",
    "\n",
    "stata_setup.config(str(os.environ.get(\"STATA_DIR\")).strip(),'be',splash=True)"
   ]
  },
  {
   "cell_type": "code",
   "execution_count": null,
   "id": "e0485e91",
   "metadata": {},
   "outputs": [],
   "source": [
    "%%stata\n",
    "sysuse auto, clear\n",
    "describe"
   ]
  }
 ],
 "metadata": {
  "kernelspec": {
   "display_name": ".venv",
   "language": "python",
   "name": "python3"
  },
  "language_info": {
   "codemirror_mode": {
    "name": "ipython",
    "version": 3
   },
   "file_extension": ".py",
   "mimetype": "text/x-python",
   "name": "python",
   "nbconvert_exporter": "python",
   "pygments_lexer": "ipython3",
   "version": "3.12.9"
  }
 },
 "nbformat": 4,
 "nbformat_minor": 5
}
